{
 "cells": [
  {
   "cell_type": "code",
   "execution_count": 3,
   "id": "b20aebad",
   "metadata": {},
   "outputs": [],
   "source": [
    "# %run test1_read_data.ipynb\n"
   ]
  },
  {
   "cell_type": "code",
   "execution_count": 5,
   "id": "977638f8",
   "metadata": {},
   "outputs": [
    {
     "name": "stdout",
     "output_type": "stream",
     "text": [
      "TRAIN: [1 2 3] TEST: [0]\n",
      "TRAIN: [0 2 3] TEST: [1]\n",
      "TRAIN: [0 1 3] TEST: [2]\n",
      "TRAIN: [0 1 2] TEST: [3]\n"
     ]
    }
   ],
   "source": [
    "from sklearn.model_selection import KFold\n",
    " \n",
    "import numpy as np\n",
    "\n",
    "X =np.array([[1, 2], [3, 4], [1, 2], [3, 4]])\n",
    "\n",
    "y =np.array([1, 2, 3, 4])\n",
    "\n",
    "kf = KFold(n_splits=4)\n",
    "for train_index, test_index in kf.split(X):\n",
    "\n",
    "    print(\"TRAIN:\", train_index, \"TEST:\",test_index)\n",
    "\n",
    "    X_train, X_test = X[train_index],X[test_index]\n",
    "\n",
    "y_train, y_test = y[train_index], y[test_index]"
   ]
  },
  {
   "cell_type": "code",
   "execution_count": 7,
   "id": "90ab703b",
   "metadata": {},
   "outputs": [
    {
     "name": "stdout",
     "output_type": "stream",
     "text": [
      "train_index [ 3  4  5  6  7  8  9 10 11], test_index [0 1 2]\n",
      "train_index [ 0  1  2  6  7  8  9 10 11], test_index [3 4 5]\n",
      "train_index [ 0  1  2  3  4  5  8  9 10 11], test_index [6 7]\n",
      "train_index [ 0  1  2  3  4  5  6  7 10 11], test_index [8 9]\n",
      "train_index [0 1 2 3 4 5 6 7 8 9], test_index [10 11]\n"
     ]
    }
   ],
   "source": [
    "from sklearn.model_selection import KFold\n",
    "import numpy as np\n",
    " \n",
    "#设置shuffle=False，运行两次，发现两次结果相同\n",
    "X=np.arange(24).reshape(12,2)\n",
    "y=np.random.choice([1,2],12,p=[0.4,0.6])#1,2 总共出现12次，其中1出现的概率为0.4,2出现的概率为0.6\n",
    "kf=KFold(n_splits=5,shuffle=False)\n",
    "for train_index,test_index in kf.split(X):\n",
    "    print('train_index %s, test_index %s'%(train_index,test_index))\n",
    " \n",
    "# X=np.arange(24).reshape(12,2)\n",
    "# y=np.random.choice([1,2],12,p=[0.4,0.6])#1,2 总共出现12次，其中1出现的概率为0.4,2出现的概率为0.6\n",
    "# kf=KFold(n_splits=5,shuffle=False)\n",
    "# for train_index,test_index in kf.split(X):\n",
    "#     print('train_index %s, test_index %s'%(train_index,test_index))\n"
   ]
  },
  {
   "cell_type": "code",
   "execution_count": 10,
   "id": "b2555c68",
   "metadata": {},
   "outputs": [
    {
     "name": "stdout",
     "output_type": "stream",
     "text": [
      "0.21999999999999995\n"
     ]
    }
   ],
   "source": [
    "import numpy as np\n",
    "def trendline(index,data, order=1):\n",
    "    coeffs = np.polyfit(index, list(data), order)\n",
    "    slope = coeffs[-2]\n",
    "    return float(slope)\n",
    "index=[1,2,3,4]\n",
    "List=[0.2,0.2,0.3,0.9]\n",
    "resultent=trendline(index,List)\n",
    "print(resultent) "
   ]
  },
  {
   "cell_type": "code",
   "execution_count": null,
   "id": "3377c35c",
   "metadata": {},
   "outputs": [],
   "source": [
    "import sys\n",
    "import numpy as np\n",
    "words = [str(i)+\"中国\" for i in range(int(3E6))]\n",
    "sys.getsizeof(words) # 2 678 088 b 2Mb数据\n",
    "\n",
    "vector = np.array([i*2.1111111 for i in range(300)])\n",
    "\n",
    "sys.getsizeof(vector) # 2 678 088 b 2Mb数据\n",
    "\n",
    "w2v = dict()\n",
    "for word in words:\n",
    "    w2v[word] = np.array([i*2.1111111 for i in range(3000)])\n",
    "    \n",
    "sys.getsizeof(w2v) \n",
    "# 10 485 856"
   ]
  },
  {
   "cell_type": "code",
   "execution_count": null,
   "id": "03717fb1",
   "metadata": {},
   "outputs": [],
   "source": []
  }
 ],
 "metadata": {
  "kernelspec": {
   "display_name": "Python 3 (ipykernel)",
   "language": "python",
   "name": "python3"
  },
  "language_info": {
   "codemirror_mode": {
    "name": "ipython",
    "version": 3
   },
   "file_extension": ".py",
   "mimetype": "text/x-python",
   "name": "python",
   "nbconvert_exporter": "python",
   "pygments_lexer": "ipython3",
   "version": "3.8.12"
  }
 },
 "nbformat": 4,
 "nbformat_minor": 5
}
