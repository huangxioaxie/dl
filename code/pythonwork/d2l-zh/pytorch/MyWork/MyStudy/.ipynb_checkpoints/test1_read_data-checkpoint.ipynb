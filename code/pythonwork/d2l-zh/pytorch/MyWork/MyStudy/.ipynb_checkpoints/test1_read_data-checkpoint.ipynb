{
 "cells": [
  {
   "cell_type": "code",
   "execution_count": 1,
   "id": "7f9b9a8d",
   "metadata": {},
   "outputs": [],
   "source": [
    "import thulac\n",
    "import os\n",
    "import re\n",
    "import pandas as pd\n",
    "from gensim.models import Word2Vec\n",
    "import jieba\n",
    "from concurrent.futures import ThreadPoolExecutor, as_completed\n",
    "import time\n",
    "import pandas as pd\n",
    "import jieba\n",
    "import jieba.analyse\n",
    "import jieba.posseg as posg"
   ]
  },
  {
   "cell_type": "code",
   "execution_count": 47,
   "id": "f5200ccc",
   "metadata": {},
   "outputs": [
    {
     "name": "stdout",
     "output_type": "stream",
     "text": [
      "停词表 ['的', '。', '是', ' ', '\\n', '日', '月', '.', '%', '\\u3000']\n"
     ]
    },
    {
     "data": {
      "text/plain": [
       "('控制 训练 文章 数量 ',\n",
       " {'控制': 'v', '训练': 'vn', '文章': 'n', '数量': 'n'},\n",
       " {'v': 1, 'vn': 1, 'n': 2})"
      ]
     },
     "execution_count": 47,
     "metadata": {},
     "output_type": "execute_result"
    }
   ],
   "source": [
    "# 停词表\n",
    "# 停词表\n",
    "\n",
    "def load_stop_word():\n",
    "    stop_word = ['的', '。', '是', ' ', '\\n', '日', '月', '.', '%','\\u3000']\n",
    "    stop_word_file = 'c:/data/stopwords'\n",
    "    stop_word_dirs = os.listdir(stop_word_file)\n",
    "    for textName in stop_word_dirs:\n",
    "        filename = stop_word_file + '/' + textName\n",
    "        with open(filename, 'r', encoding='utf-8') as file_object:\n",
    "            line = file_object.readline()\n",
    "            while line:\n",
    "                stop_word.append(line[0:-1])\n",
    "                line = file_object.readline()\n",
    "    return stop_word\n",
    "stop_word = load_stop_word()\n",
    "print(\"停词表\", stop_word[0:10])\n",
    "#分词\n",
    " # 默认模式，分词的同时进行词性标注\n",
    "# thu = thulac.thulac(filt=True, seg_only=True)\n",
    "word_type = dict()\n",
    "type_num = dict()\n",
    "def cut_doc(doc):\n",
    "     # 默认模式，分词的同时进行词性标注\n",
    "    \n",
    "    words = posg.cut(doc)\n",
    "    words_in_doc = \"\"\n",
    "    for w in words:\n",
    "        # print(word)\n",
    "        if w.word in stop_word: continue\n",
    "        words_in_doc +=  w.word + \" \"\n",
    "        word_type[w.word] = w.flag\n",
    "        try:\n",
    "            type_num[w.flag] = type_num[w.flag] + 1\n",
    "        except Exception as e:\n",
    "            type_num[w.flag] = 1\n",
    "            continue\n",
    "        \n",
    "    return words_in_doc\n",
    "\n",
    "words_in_doc = cut_doc(\"用来控制训练的文章数量\")\n",
    "words_in_doc,word_type,type_num"
   ]
  },
  {
   "cell_type": "code",
   "execution_count": 81,
   "id": "67a60714",
   "metadata": {},
   "outputs": [
    {
     "name": "stdout",
     "output_type": "stream",
     "text": [
      "多线程占据的全部时间580.3676285743713\n",
      "13986\n",
      "13986\n",
      "13986\n",
      "错误的次数 0\n",
      "(13986, 2)\n"
     ]
    }
   ],
   "source": [
    "doc_map = {}\n",
    "label_map = {}\n",
    "map = {}\n",
    "DOC_COUNT_MAX = 1000\n",
    "wrong_num = []\n",
    "\n",
    "def read_file_cut(doc_file_name, doc_id, label_index):\n",
    "    with open(doc_file_name, 'r', encoding='utf-8') as file_object:\n",
    "        doc_content = \"\"\n",
    "        line = file_object.readline()\n",
    "        while line:\n",
    "            doc_content += line\n",
    "            line = file_object.readline()\n",
    "        wrong = 1\n",
    "        for _ in range(0,4):\n",
    "            try:\n",
    "                doc_map[doc_id] = cut_doc(doc_content)\n",
    "                wrong = 0\n",
    "                break\n",
    "            except Exception as e:\n",
    "                continue\n",
    "        if wrong == 1:\n",
    "            wrong_num.append(doc_id)\n",
    "        label_map[doc_id] = int(label_index)\n",
    "    return 0\n",
    "\n",
    "my_df = pd.DataFrame([],index=[],columns=['text','label'])\n",
    "\n",
    "label_num = {}\n",
    "\n",
    "with ThreadPoolExecutor(max_workers= int(10000)) as t:\n",
    "    obj_list = []\n",
    "    begin = time.time()\n",
    "    \n",
    "    news_file = 'c:/data/THUCNews'\n",
    "    news_file_dirs = os.listdir(news_file)\n",
    "    # print(news_file_dirs)\n",
    "    \n",
    "    label_index = -1\n",
    "    for label in news_file_dirs:\n",
    "        label_index += 1\n",
    "        label_num[label] = label_index\n",
    "        \n",
    "        file = news_file + '/' + label\n",
    "        doc_ids = os.listdir(file)\n",
    "        doc_num = 0\n",
    "        for doc_name in doc_ids:\n",
    "            doc_num += 1\n",
    "            if doc_num >= DOC_COUNT_MAX:\n",
    "                break\n",
    "                \n",
    "            doc_file_name = file + '/' + doc_name\n",
    "            doc_id = doc_name[0:-4]\n",
    "            doc_content = \"\"\n",
    "            \n",
    "            \n",
    "            obj = t.submit(read_file_cut, doc_file_name, doc_id, label_index)\n",
    "            obj_list.append(obj)    \n",
    "            \n",
    "      \n",
    "    for future in as_completed(obj_list):\n",
    "        data = future.result()\n",
    "    times = time.time() - begin\n",
    "    print(\"多线程占据的全部时间\"+str(times))\n",
    "    print(len(obj_list))\n",
    "    print(len(doc_map))\n",
    "    print(len(label_map))\n",
    "    \n",
    "map['text'] = doc_map\n",
    "map['label'] = label_map\n",
    "\n",
    "\n",
    "my_df = pd.DataFrame(map)\n",
    "train_df = my_df\n",
    "print(\"错误的次数\", len(wrong_num) )\n",
    "print(train_df.shape)\n",
    "train_df.to_csv(\"c:/data/news/test01.csv\")"
   ]
  },
  {
   "cell_type": "code",
   "execution_count": 82,
   "id": "db2f8d51",
   "metadata": {},
   "outputs": [
    {
     "data": {
      "text/html": [
       "<div>\n",
       "<style scoped>\n",
       "    .dataframe tbody tr th:only-of-type {\n",
       "        vertical-align: middle;\n",
       "    }\n",
       "\n",
       "    .dataframe tbody tr th {\n",
       "        vertical-align: top;\n",
       "    }\n",
       "\n",
       "    .dataframe thead th {\n",
       "        text-align: right;\n",
       "    }\n",
       "</style>\n",
       "<table border=\"1\" class=\"dataframe\">\n",
       "  <thead>\n",
       "    <tr style=\"text-align: right;\">\n",
       "      <th></th>\n",
       "      <th>text</th>\n",
       "      <th>label</th>\n",
       "    </tr>\n",
       "  </thead>\n",
       "  <tbody>\n",
       "    <tr>\n",
       "      <th>0</th>\n",
       "      <td>马晓旭 意外 受伤 国奥 警惕 无奈 大雨 青睐 殷家 军 记者 傅亚雨 沈阳 报道 来到 ...</td>\n",
       "      <td>0</td>\n",
       "    </tr>\n",
       "    <tr>\n",
       "      <th>1</th>\n",
       "      <td>商瑞华 首战 复仇 心切 中国 玫瑰 美国 方式 攻克 瑞典 多曼 瑞典 商瑞华 首战 求 ...</td>\n",
       "      <td>0</td>\n",
       "    </tr>\n",
       "    <tr>\n",
       "      <th>10000</th>\n",
       "      <td>阿的江 八一 需 定位 机会 进 没进 新浪 体育讯 12 24 回到 主场 北京 金隅 迎...</td>\n",
       "      <td>0</td>\n",
       "    </tr>\n",
       "    <tr>\n",
       "      <th>10</th>\n",
       "      <td>冠军 球队 迎新 欢乐 派对 黄旭 获 大奖 张军 赢 PK 赛 新浪 体育讯 12 27 ...</td>\n",
       "      <td>0</td>\n",
       "    </tr>\n",
       "    <tr>\n",
       "      <th>100</th>\n",
       "      <td>辽 足 签约 危机 引 注册 难关 高层 威逼利诱 合同 笑里藏刀 新浪 体育讯 24 辽 ...</td>\n",
       "      <td>0</td>\n",
       "    </tr>\n",
       "    <tr>\n",
       "      <th>...</th>\n",
       "      <td>...</td>\n",
       "      <td>...</td>\n",
       "    </tr>\n",
       "    <tr>\n",
       "      <th>799943</th>\n",
       "      <td>银行 信用卡 挂失 费 迥异 北京 银行 收费 信用卡 携带 便捷 简单 消费 生活 中 不...</td>\n",
       "      <td>13</td>\n",
       "    </tr>\n",
       "    <tr>\n",
       "      <th>799919</th>\n",
       "      <td>理财 指导 信用卡 套现 炒金 得不偿失 黄金 热 纷纷 踏上 炒 黄金 条路 资金不足 刷...</td>\n",
       "      <td>13</td>\n",
       "    </tr>\n",
       "    <tr>\n",
       "      <th>799965</th>\n",
       "      <td>假 存折 骗过 银行 系统 取 走 存款 法院 判 银行 负 全责 本报讯   记者 刘艺明...</td>\n",
       "      <td>13</td>\n",
       "    </tr>\n",
       "    <tr>\n",
       "      <th>799921</th>\n",
       "      <td>大学生 信用卡 禁办 难 交行 业务员 支招 避 规 半岛网 26 消息 2010 年 月份...</td>\n",
       "      <td>13</td>\n",
       "    </tr>\n",
       "    <tr>\n",
       "      <th>799799</th>\n",
       "      <td>媒体 调查 银行业 薪酬 上市 银行 员工 年薪 平均 26 万 宝玉 入职 保险公司 见 ...</td>\n",
       "      <td>13</td>\n",
       "    </tr>\n",
       "  </tbody>\n",
       "</table>\n",
       "<p>13986 rows × 2 columns</p>\n",
       "</div>"
      ],
      "text/plain": [
       "                                                     text  label\n",
       "0       马晓旭 意外 受伤 国奥 警惕 无奈 大雨 青睐 殷家 军 记者 傅亚雨 沈阳 报道 来到 ...      0\n",
       "1       商瑞华 首战 复仇 心切 中国 玫瑰 美国 方式 攻克 瑞典 多曼 瑞典 商瑞华 首战 求 ...      0\n",
       "10000   阿的江 八一 需 定位 机会 进 没进 新浪 体育讯 12 24 回到 主场 北京 金隅 迎...      0\n",
       "10      冠军 球队 迎新 欢乐 派对 黄旭 获 大奖 张军 赢 PK 赛 新浪 体育讯 12 27 ...      0\n",
       "100     辽 足 签约 危机 引 注册 难关 高层 威逼利诱 合同 笑里藏刀 新浪 体育讯 24 辽 ...      0\n",
       "...                                                   ...    ...\n",
       "799943  银行 信用卡 挂失 费 迥异 北京 银行 收费 信用卡 携带 便捷 简单 消费 生活 中 不...     13\n",
       "799919  理财 指导 信用卡 套现 炒金 得不偿失 黄金 热 纷纷 踏上 炒 黄金 条路 资金不足 刷...     13\n",
       "799965  假 存折 骗过 银行 系统 取 走 存款 法院 判 银行 负 全责 本报讯   记者 刘艺明...     13\n",
       "799921  大学生 信用卡 禁办 难 交行 业务员 支招 避 规 半岛网 26 消息 2010 年 月份...     13\n",
       "799799  媒体 调查 银行业 薪酬 上市 银行 员工 年薪 平均 26 万 宝玉 入职 保险公司 见 ...     13\n",
       "\n",
       "[13986 rows x 2 columns]"
      ]
     },
     "execution_count": 82,
     "metadata": {},
     "output_type": "execute_result"
    }
   ],
   "source": [
    "train_df"
   ]
  },
  {
   "cell_type": "code",
   "execution_count": 83,
   "id": "b0078970",
   "metadata": {},
   "outputs": [
    {
     "name": "stdout",
     "output_type": "stream",
     "text": [
      "count    13986.000000\n",
      "mean       297.284856\n",
      "std        313.798125\n",
      "min          6.000000\n",
      "25%        104.000000\n",
      "50%        228.000000\n",
      "75%        389.000000\n",
      "max       6951.000000\n",
      "Name: text_len, dtype: float64\n"
     ]
    }
   ],
   "source": [
    "%matplotlib  inline\n",
    "train_df = my_df\n",
    "train_df['text_len'] = train_df['text'].apply(lambda x: len(x.split(' ')))\n",
    "print(train_df['text_len'].describe())"
   ]
  },
  {
   "cell_type": "code",
   "execution_count": 102,
   "id": "6ad1928a",
   "metadata": {},
   "outputs": [
    {
     "data": {
      "text/plain": [
       "Text(0, 0.5, '文本个数')"
      ]
     },
     "execution_count": 102,
     "metadata": {},
     "output_type": "execute_result"
    },
    {
     "data": {
      "image/png": "[encoded data removed]",
      "text/plain": [
       "<Figure size 432x288 with 1 Axes>"
      ]
     },
     "metadata": {
      "needs_background": "light"
     },
     "output_type": "display_data"
    }
   ],
   "source": [
    "import matplotlib.pyplot as plt\n",
    "import numpy as np\n",
    "from matplotlib.font_manager import FontProperties\n",
    "font = FontProperties(fname=r\"c:\\windows\\fonts\\msyh.ttc\", size=15)\n",
    "\n",
    "_ = plt.hist(train_df['text_len'], bins=1000)\n",
    "plt.xlabel('Text char count')\n",
    "plt.title(\"Histogram of char count\")\n",
    "# x_values=list(range(0,1000,50))\n",
    "# #x轴的数字是0到10这11个整数\n",
    "# y_values=[x/10 for x in x_values]\n",
    "plt.xlim(0,2000)\n",
    "plt.xticks((range(0,2000,250)))\n",
    "#用plot函数绘制折线图，线条颜色设置为绿色\n",
    "plt.title('新闻数量',fontsize=14, fontproperties=font)\n",
    "#设置图表标题和标题字号\n",
    "plt.tick_params(axis='both',which='major',labelsize=14)\n",
    "#设置刻度的字号\n",
    "plt.xlabel('文本长度',fontsize=10, fontproperties=font)\n",
    "#设置x轴标签及其字号\n",
    "plt.ylabel('文本个数',fontsize=10, fontproperties=font)\n",
    "#设置y轴标签及其字号"
   ]
  },
  {
   "cell_type": "code",
   "execution_count": 90,
   "id": "1a5327b8",
   "metadata": {},
   "outputs": [
    {
     "data": {
      "text/plain": [
       "([('n', 1466745),\n",
       "  ('v', 870271),\n",
       "  ('m', 372709),\n",
       "  ('nr', 199288),\n",
       "  ('ns', 166409),\n",
       "  ('vn', 158891),\n",
       "  ('a', 136870),\n",
       "  ('d', 116588),\n",
       "  ('eng', 88472),\n",
       "  ('t', 75087),\n",
       "  ('f', 54965)],\n",
       " ['n', 'v', 'nr', 'ns', 'vn', 'a', 'd', 'eng', 't', 'f'],\n",
       " [0.08613950071748415,\n",
       "  0.051109572167558535,\n",
       "  0.01170385364803424,\n",
       "  0.009772924519869384,\n",
       "  0.009331404851219383,\n",
       "  0.008038148051094127,\n",
       "  0.0068470198362019586,\n",
       "  0.005195813796861252,\n",
       "  0.0044097349507744915,\n",
       "  0.003228003270463861])"
      ]
     },
     "execution_count": 90,
     "metadata": {},
     "output_type": "execute_result"
    }
   ],
   "source": [
    "type(type_num)\n",
    "\n",
    "type_num_list = sorted(type_num.items(), key=lambda item:item[1], reverse=True)\n",
    "for x in type_num_list:\n",
    "    all_num += x[1]\n",
    "\n",
    "type_num_list = type_num_list[0:11]\n",
    "x_type_list = [x[0] for x in type_num_list]\n",
    "y_num_list = [x[1]/all_num for x in type_num_list]\n",
    "\n",
    "index = -1\n",
    "for i in range(len(x_type_list)):\n",
    "    if x_type_list[i] == 'm':\n",
    "        index = i\n",
    "        break\n",
    "if index != -1:\n",
    "    x_type_list.pop(index)\n",
    "    y_num_list.pop(index)\n",
    "\n",
    "type_num_list,x_type_list,y_num_list"
   ]
  },
  {
   "cell_type": "code",
   "execution_count": 91,
   "id": "89b049ad",
   "metadata": {},
   "outputs": [
    {
     "data": {
      "image/png": "[encoded data removed]",
      "text/plain": [
       "<Figure size 432x288 with 1 Axes>"
      ]
     },
     "metadata": {
      "needs_background": "light"
     },
     "output_type": "display_data"
    }
   ],
   "source": [
    "#用plot函数绘制折线图，线条颜色设置为绿色\n",
    "plt.title('排名前10名的词性比例',fontsize=14, fontproperties=font)\n",
    "#设置图表标题和标题字号\n",
    "# plt.tick_params(axis='both',which='major',labelsize=14)\n",
    "#设置刻度的字号\n",
    "plt.xlabel('词性',fontsize=10, fontproperties=font)\n",
    "#设置x轴标签及其字号\n",
    "plt.ylabel('比例',fontsize=10, fontproperties=font)\n",
    "plt.bar(x_type_list, y_num_list)\n",
    "plt.show()"
   ]
  },
  {
   "cell_type": "markdown",
   "id": "eaa3f56c",
   "metadata": {},
   "source": [
    "# word2Vec 文本向量化\n"
   ]
  },
  {
   "cell_type": "code",
   "execution_count": 104,
   "id": "c216b51b",
   "metadata": {},
   "outputs": [
    {
     "data": {
      "text/plain": [
       "0         马晓旭 意外 受伤 国奥 警惕 无奈 大雨 青睐 殷家 军 记者 傅亚雨 沈阳 报道 来到 ...\n",
       "1         商瑞华 首战 复仇 心切 中国 玫瑰 美国 方式 攻克 瑞典 多曼 瑞典 商瑞华 首战 求 ...\n",
       "10000     阿的江 八一 需 定位 机会 进 没进 新浪 体育讯 12 24 回到 主场 北京 金隅 迎...\n",
       "10        冠军 球队 迎新 欢乐 派对 黄旭 获 大奖 张军 赢 PK 赛 新浪 体育讯 12 27 ...\n",
       "100       辽 足 签约 危机 引 注册 难关 高层 威逼利诱 合同 笑里藏刀 新浪 体育讯 24 辽 ...\n",
       "100000    姚明 未来 次节 出战 成疑 火箭 高层 称 改变 姚 战略 新浪 体育讯 北京 时间 11...\n",
       "1000      揭秘 谢亚龙 带走 总局 电话 骗局 复制 南杨 轨迹 体坛周报 特约记者 张锐 北京 报道...\n",
       "100002    姚麦 均 无胜 殊途同归 活塞 酝酿 交易 火箭 插一脚 新浪 体育讯 火箭 活塞 全 联盟...\n",
       "100001    姚明 承担 四 连败 巨人 宣言 酷似 当年 麦蒂 新浪 体育讯 北京 时间 11 消息 休...\n",
       "100003    布雷克 替补席 成功 接棒 法玛 湖人 板凳 后卫 越 越好 新浪 体育讯 记者 戴高乐 报...\n",
       "Name: text, dtype: object"
      ]
     },
     "execution_count": 104,
     "metadata": {},
     "output_type": "execute_result"
    }
   ],
   "source": [
    "# 基于 word2vec 生成 词向量\n",
    "import numpy as np\n",
    "useless = set()\n",
    "\n",
    "doc_data = train_df['text'][0:10]\n",
    "doc_data"
   ]
  },
  {
   "cell_type": "code",
   "execution_count": null,
   "id": "345222d2",
   "metadata": {},
   "outputs": [],
   "source": [
    "# word2Vec 文本向量化\n",
    "\n",
    "# # 基于 word2vec 生成 词向量\n",
    "# import numpy as np\n",
    "# useless = set()\n",
    "\n",
    "# doc_data = train_df['text']\n",
    "\n",
    "\n",
    "common_text = []\n",
    "for i in range(0, doc_data.size):\n",
    "    doc = str(doc_data[i]).split(\" \")\n",
    "    common_text.append(doc)\n",
    "\n",
    "# 词向量的维度，样本够的话300-500。\n",
    "# min_count 最小次数计数，出现次数低于这个数的就不要了\n",
    "# workers  线程数\n",
    "# window 窗口大小\n",
    "# sample 负例采样设置aa\n",
    "\n",
    "\n",
    "vector_size = 500\n",
    "model = Word2Vec(sentences=common_text, vector_size=vector_size, window=5, min_count=4,\n",
    "                  workers=12, sample=1e-5)\n",
    "# model.save(\"word2vec.model\")\n",
    "vector = model.wv['中国']\n",
    "\n",
    "# 词向量 合成 文本向量\n",
    "doc_v_list = np.array([])\n",
    "\n",
    "for split_doc in common_text:\n",
    "    used_word = float(0.0)\n",
    "    vector = vector * 0\n",
    "    for word in split_doc:\n",
    "\n",
    "        used_word += 1.0\n",
    "        try:\n",
    "            vector += model.wv[word]\n",
    "        except Exception as e:\n",
    "            # print(e.__traceback__.tb_frame.f_globals[\"__file__\"])  # 发生异常所在的文件\n",
    "            # print(e.__traceback__.tb_lineno)  # 发生异常所在的行数\n",
    "            used_word -= 1.0\n",
    "\n",
    "    vector /= used_word /200\n",
    "    doc_v_list = np.append(doc_v_list, vector)\n",
    "\n",
    "train_test = doc_v_list.reshape(len(common_text), vector_size)\n",
    "train_test"
   ]
  }
 ],
 "metadata": {
  "kernelspec": {
   "display_name": "Python 3 (ipykernel)",
   "language": "python",
   "name": "python3"
  },
  "language_info": {
   "codemirror_mode": {
    "name": "ipython",
    "version": 3
   },
   "file_extension": ".py",
   "mimetype": "text/x-python",
   "name": "python",
   "nbconvert_exporter": "python",
   "pygments_lexer": "ipython3",
   "version": "3.8.12"
  }
 },
 "nbformat": 4,
 "nbformat_minor": 5
}
