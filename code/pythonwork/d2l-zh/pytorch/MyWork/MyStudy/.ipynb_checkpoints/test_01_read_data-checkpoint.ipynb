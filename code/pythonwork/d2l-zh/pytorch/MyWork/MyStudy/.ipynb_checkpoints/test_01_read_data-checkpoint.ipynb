{
 "cells": [
  {
   "cell_type": "code",
   "execution_count": 2,
   "id": "e9b22105",
   "metadata": {},
   "outputs": [],
   "source": [
    "import thulac\n",
    "import os\n",
    "import re\n",
    "import pandas as pd\n",
    "from gensim.models import Word2Vec\n",
    "import jieba\n",
    "from concurrent.futures import ThreadPoolExecutor, as_completed\n",
    "import time\n",
    "import pandas as pd\n",
    "import jieba\n",
    "import jieba.analyse\n",
    "import jieba.posseg as posg"
   ]
  },
  {
   "cell_type": "code",
   "execution_count": 3,
   "id": "7bf2d1e0",
   "metadata": {},
   "outputs": [
    {
     "name": "stderr",
     "output_type": "stream",
     "text": [
      "Building prefix dict from the default dictionary ...\n",
      "Loading model from cache C:\\Users\\hys\\AppData\\Local\\Temp\\jieba.cache\n"
     ]
    },
    {
     "name": "stdout",
     "output_type": "stream",
     "text": [
      "停词表 ['的', '。', '是', ' ', '\\n', '日', '月', '.', '%', '\\u3000']\n"
     ]
    },
    {
     "name": "stderr",
     "output_type": "stream",
     "text": [
      "Loading model cost 0.465 seconds.\n",
      "Prefix dict has been built successfully.\n"
     ]
    },
    {
     "data": {
      "text/plain": [
       "('控制 训练 文章 数量 ',\n",
       " {'控制': 'v', '训练': 'vn', '文章': 'n', '数量': 'n'},\n",
       " {'v': 1, 'vn': 1, 'n': 2})"
      ]
     },
     "execution_count": 3,
     "metadata": {},
     "output_type": "execute_result"
    }
   ],
   "source": [
    "# 停词表\n",
    "# 停词表\n",
    "\n",
    "def load_stop_word():\n",
    "    stop_word = ['的', '。', '是', ' ', '\\n', '日', '月', '.', '%','\\u3000']\n",
    "    stop_word_file = 'c:/data/stopwords'\n",
    "    stop_word_dirs = os.listdir(stop_word_file)\n",
    "    for textName in stop_word_dirs:\n",
    "        filename = stop_word_file + '/' + textName\n",
    "        with open(filename, 'r', encoding='utf-8') as file_object:\n",
    "            line = file_object.readline()\n",
    "            while line:\n",
    "                stop_word.append(line[0:-1])\n",
    "                line = file_object.readline()\n",
    "    return stop_word\n",
    "stop_word = load_stop_word()\n",
    "print(\"停词表\", stop_word[0:10])\n",
    "#分词\n",
    " # 默认模式，分词的同时进行词性标注\n",
    "# thu = thulac.thulac(filt=True, seg_only=True)\n",
    "word_type = dict()\n",
    "type_num = dict()\n",
    "def cut_doc(doc):\n",
    "     # 默认模式，分词的同时进行词性标注\n",
    "    \n",
    "    words = posg.cut(doc)\n",
    "    words_in_doc = \"\"\n",
    "    for w in words:\n",
    "        # print(word)\n",
    "        if w.word in stop_word: continue\n",
    "        words_in_doc +=  w.word + \" \"\n",
    "        word_type[w.word] = w.flag\n",
    "        try:\n",
    "            type_num[w.flag] = type_num[w.flag] + 1\n",
    "        except Exception as e:\n",
    "            type_num[w.flag] = 1\n",
    "            continue\n",
    "        \n",
    "    return words_in_doc\n",
    "\n",
    "words_in_doc = cut_doc(\"用来控制训练的文章数量\")\n",
    "words_in_doc,word_type,type_num"
   ]
  },
  {
   "cell_type": "code",
   "execution_count": 5,
   "id": "d81a4486",
   "metadata": {},
   "outputs": [
    {
     "name": "stdout",
     "output_type": "stream",
     "text": [
      "多线程占据的全部时间7.715047597885132\n",
      "126\n",
      "126\n",
      "126\n",
      "错误的次数 0\n",
      "(126, 2)\n"
     ]
    }
   ],
   "source": [
    "doc_map = {}\n",
    "label_map = {}\n",
    "map = {}\n",
    "DOC_COUNT_MAX = 10\n",
    "wrong_num = []\n",
    "\n",
    "def read_file_cut(doc_file_name, doc_id, label_index):\n",
    "    with open(doc_file_name, 'r', encoding='utf-8') as file_object:\n",
    "        doc_content = \"\"\n",
    "        line = file_object.readline()\n",
    "        while line:\n",
    "            doc_content += line\n",
    "            line = file_object.readline()\n",
    "        wrong = 1\n",
    "        for _ in range(0,4):\n",
    "            try:\n",
    "                doc_map[doc_id] = cut_doc(doc_content)\n",
    "                wrong = 0\n",
    "                break\n",
    "            except Exception as e:\n",
    "                continue\n",
    "        if wrong == 1:\n",
    "            wrong_num.append(doc_id)\n",
    "        label_map[doc_id] = int(label_index)\n",
    "    return 0\n",
    "\n",
    "my_df = pd.DataFrame([],index=[],columns=['text','label'])\n",
    "\n",
    "label_num = {}\n",
    "\n",
    "with ThreadPoolExecutor(max_workers= int(10000)) as t:\n",
    "    obj_list = []\n",
    "    begin = time.time()\n",
    "    \n",
    "    news_file = 'c:/data/THUCNews'\n",
    "    news_file_dirs = os.listdir(news_file)\n",
    "    # print(news_file_dirs)\n",
    "    \n",
    "    label_index = -1\n",
    "    for label in news_file_dirs:\n",
    "        label_index += 1\n",
    "        label_num[label] = label_index\n",
    "        \n",
    "        file = news_file + '/' + label\n",
    "        doc_ids = os.listdir(file)\n",
    "        doc_num = 0\n",
    "        for doc_name in doc_ids:\n",
    "            doc_num += 1\n",
    "            if doc_num >= DOC_COUNT_MAX:\n",
    "                break\n",
    "                \n",
    "            doc_file_name = file + '/' + doc_name\n",
    "            doc_id = doc_name[0:-4]\n",
    "            doc_content = \"\"\n",
    "            \n",
    "            \n",
    "            obj = t.submit(read_file_cut, doc_file_name, doc_id, label_index)\n",
    "            obj_list.append(obj)    \n",
    "            \n",
    "      \n",
    "    for future in as_completed(obj_list):\n",
    "        data = future.result()\n",
    "    times = time.time() - begin\n",
    "    print(\"多线程占据的全部时间\"+str(times))\n",
    "    print(len(obj_list))\n",
    "    print(len(doc_map))\n",
    "    print(len(label_map))\n",
    "    \n",
    "map['text'] = doc_map\n",
    "map['label'] = label_map\n",
    "\n",
    "\n",
    "my_df = pd.DataFrame(map)\n",
    "train_df = my_df\n",
    "print(\"错误的次数\", len(wrong_num) )\n",
    "print(train_df.shape)\n",
    "train_df.to_csv(\"c:/data/news/test01.csv\")"
   ]
  },
  {
   "cell_type": "code",
   "execution_count": 6,
   "id": "52da09c7",
   "metadata": {},
   "outputs": [
    {
     "data": {
      "text/html": [
       "<div>\n",
       "<style scoped>\n",
       "    .dataframe tbody tr th:only-of-type {\n",
       "        vertical-align: middle;\n",
       "    }\n",
       "\n",
       "    .dataframe tbody tr th {\n",
       "        vertical-align: top;\n",
       "    }\n",
       "\n",
       "    .dataframe thead th {\n",
       "        text-align: right;\n",
       "    }\n",
       "</style>\n",
       "<table border=\"1\" class=\"dataframe\">\n",
       "  <thead>\n",
       "    <tr style=\"text-align: right;\">\n",
       "      <th></th>\n",
       "      <th>text</th>\n",
       "      <th>label</th>\n",
       "    </tr>\n",
       "  </thead>\n",
       "  <tbody>\n",
       "    <tr>\n",
       "      <th>0</th>\n",
       "      <td>马晓旭 意外 受伤 国奥 警惕 无奈 大雨 青睐 殷家 军 记者 傅亚雨 沈阳 报道 来到 ...</td>\n",
       "      <td>0</td>\n",
       "    </tr>\n",
       "    <tr>\n",
       "      <th>1</th>\n",
       "      <td>商瑞华 首战 复仇 心切 中国 玫瑰 美国 方式 攻克 瑞典 多曼 瑞典 商瑞华 首战 求 ...</td>\n",
       "      <td>0</td>\n",
       "    </tr>\n",
       "    <tr>\n",
       "      <th>10000</th>\n",
       "      <td>阿的江 八一 需 定位 机会 进 没进 新浪 体育讯 12 24 回到 主场 北京 金隅 迎...</td>\n",
       "      <td>0</td>\n",
       "    </tr>\n",
       "    <tr>\n",
       "      <th>100</th>\n",
       "      <td>辽 足 签约 危机 引 注册 难关 高层 威逼利诱 合同 笑里藏刀 新浪 体育讯 24 辽 ...</td>\n",
       "      <td>0</td>\n",
       "    </tr>\n",
       "    <tr>\n",
       "      <th>1000</th>\n",
       "      <td>揭秘 谢亚龙 带走 总局 电话 骗局 复制 南杨 轨迹 体坛周报 特约记者 张锐 北京 报道...</td>\n",
       "      <td>0</td>\n",
       "    </tr>\n",
       "    <tr>\n",
       "      <th>...</th>\n",
       "      <td>...</td>\n",
       "      <td>...</td>\n",
       "    </tr>\n",
       "    <tr>\n",
       "      <th>798981</th>\n",
       "      <td>亚洲 燃料油 裂解 价差 收 窄 跨 合约 遭 单 抛售 文华 财经 编辑整理 丽丽 新加坡...</td>\n",
       "      <td>13</td>\n",
       "    </tr>\n",
       "    <tr>\n",
       "      <th>798983</th>\n",
       "      <td>欧佩克 特别 会议 大幅度 减产 新华网 阿尔及尔 10 18 日电 记者 郑斌 阿尔及利亚...</td>\n",
       "      <td>13</td>\n",
       "    </tr>\n",
       "    <tr>\n",
       "      <th>798985</th>\n",
       "      <td>价格 太 高 中国 连续 两周 未 进口 美国 大豆 卢进 高 企 美国 大豆价格 令 买家...</td>\n",
       "      <td>13</td>\n",
       "    </tr>\n",
       "    <tr>\n",
       "      <th>798984</th>\n",
       "      <td>中国 2010 年 棉花 产量 预计 减少 5.5 新浪 财经 讯 11 18 下午 消息 ...</td>\n",
       "      <td>13</td>\n",
       "    </tr>\n",
       "    <tr>\n",
       "      <th>798982</th>\n",
       "      <td>2010 艺术品 秋 拍 上演 六宗 中国 艺术品 市场 经历 2008 年 低潮 2009...</td>\n",
       "      <td>13</td>\n",
       "    </tr>\n",
       "  </tbody>\n",
       "</table>\n",
       "<p>126 rows × 2 columns</p>\n",
       "</div>"
      ],
      "text/plain": [
       "                                                     text  label\n",
       "0       马晓旭 意外 受伤 国奥 警惕 无奈 大雨 青睐 殷家 军 记者 傅亚雨 沈阳 报道 来到 ...      0\n",
       "1       商瑞华 首战 复仇 心切 中国 玫瑰 美国 方式 攻克 瑞典 多曼 瑞典 商瑞华 首战 求 ...      0\n",
       "10000   阿的江 八一 需 定位 机会 进 没进 新浪 体育讯 12 24 回到 主场 北京 金隅 迎...      0\n",
       "100     辽 足 签约 危机 引 注册 难关 高层 威逼利诱 合同 笑里藏刀 新浪 体育讯 24 辽 ...      0\n",
       "1000    揭秘 谢亚龙 带走 总局 电话 骗局 复制 南杨 轨迹 体坛周报 特约记者 张锐 北京 报道...      0\n",
       "...                                                   ...    ...\n",
       "798981  亚洲 燃料油 裂解 价差 收 窄 跨 合约 遭 单 抛售 文华 财经 编辑整理 丽丽 新加坡...     13\n",
       "798983  欧佩克 特别 会议 大幅度 减产 新华网 阿尔及尔 10 18 日电 记者 郑斌 阿尔及利亚...     13\n",
       "798985  价格 太 高 中国 连续 两周 未 进口 美国 大豆 卢进 高 企 美国 大豆价格 令 买家...     13\n",
       "798984  中国 2010 年 棉花 产量 预计 减少 5.5 新浪 财经 讯 11 18 下午 消息 ...     13\n",
       "798982  2010 艺术品 秋 拍 上演 六宗 中国 艺术品 市场 经历 2008 年 低潮 2009...     13\n",
       "\n",
       "[126 rows x 2 columns]"
      ]
     },
     "execution_count": 6,
     "metadata": {},
     "output_type": "execute_result"
    }
   ],
   "source": [
    "train_df"
   ]
  },
  {
   "cell_type": "code",
   "execution_count": 7,
   "id": "1698003a",
   "metadata": {},
   "outputs": [
    {
     "name": "stdout",
     "output_type": "stream",
     "text": [
      "count     126.000000\n",
      "mean      317.960317\n",
      "std       297.471327\n",
      "min        10.000000\n",
      "25%       119.500000\n",
      "50%       241.500000\n",
      "75%       416.750000\n",
      "max      1761.000000\n",
      "Name: text_len, dtype: float64\n"
     ]
    }
   ],
   "source": [
    "%matplotlib  inline\n",
    "train_df = my_df\n",
    "train_df['text_len'] = train_df['text'].apply(lambda x: len(x.split(' ')))\n",
    "print(train_df['text_len'].describe())"
   ]
  },
  {
   "cell_type": "code",
   "execution_count": 8,
   "id": "3b591ce1",
   "metadata": {},
   "outputs": [
    {
     "data": {
      "text/plain": [
       "Text(0, 0.5, '文本个数')"
      ]
     },
     "execution_count": 8,
     "metadata": {},
     "output_type": "execute_result"
    },
    {
     "data": {
      "image/png": "[encoded data removed]",
      "text/plain": [
       "<Figure size 432x288 with 1 Axes>"
      ]
     },
     "metadata": {
      "needs_background": "light"
     },
     "output_type": "display_data"
    }
   ],
   "source": [
    "import matplotlib.pyplot as plt\n",
    "import numpy as np\n",
    "from matplotlib.font_manager import FontProperties\n",
    "font = FontProperties(fname=r\"c:\\windows\\fonts\\msyh.ttc\", size=15)\n",
    "\n",
    "_ = plt.hist(train_df['text_len'], bins=1000)\n",
    "plt.xlabel('Text char count')\n",
    "plt.title(\"Histogram of char count\")\n",
    "# x_values=list(range(0,1000,50))\n",
    "# #x轴的数字是0到10这11个整数\n",
    "# y_values=[x/10 for x in x_values]\n",
    "plt.xlim(0,2000)\n",
    "plt.xticks((range(0,2000,250)))\n",
    "#用plot函数绘制折线图，线条颜色设置为绿色\n",
    "plt.title('新闻数量',fontsize=14, fontproperties=font)\n",
    "#设置图表标题和标题字号\n",
    "plt.tick_params(axis='both',which='major',labelsize=14)\n",
    "#设置刻度的字号\n",
    "plt.xlabel('文本长度',fontsize=10, fontproperties=font)\n",
    "#设置x轴标签及其字号\n",
    "plt.ylabel('文本个数',fontsize=10, fontproperties=font)\n",
    "#设置y轴标签及其字号"
   ]
  },
  {
   "cell_type": "code",
   "execution_count": 10,
   "id": "f83e4634",
   "metadata": {},
   "outputs": [
    {
     "data": {
      "text/plain": [
       "([('n', 117057),\n",
       "  ('v', 72605),\n",
       "  ('m', 26972),\n",
       "  ('nr', 17257),\n",
       "  ('ns', 13533),\n",
       "  ('a', 12926),\n",
       "  ('vn', 11754),\n",
       "  ('d', 10605),\n",
       "  ('eng', 8432),\n",
       "  ('t', 5728),\n",
       "  ('nz', 4552)],\n",
       " ['n', 'v', 'nr', 'ns', 'a', 'vn', 'd', 'eng', 't', 'nz'],\n",
       " [0.3448776722370189,\n",
       "  0.21391154217832983,\n",
       "  0.05084321304829472,\n",
       "  0.03987142621443892,\n",
       "  0.038083060315365215,\n",
       "  0.034630070473990616,\n",
       "  0.031244844085134466,\n",
       "  0.02484267094067457,\n",
       "  0.016876045914158436,\n",
       "  0.013411271124519763])"
      ]
     },
     "execution_count": 10,
     "metadata": {},
     "output_type": "execute_result"
    }
   ],
   "source": [
    "type(type_num)\n",
    "all_num = 0\n",
    "type_num_list = sorted(type_num.items(), key=lambda item:item[1], reverse=True)\n",
    "for x in type_num_list:\n",
    "    all_num += x[1]\n",
    "\n",
    "type_num_list = type_num_list[0:11]\n",
    "x_type_list = [x[0] for x in type_num_list]\n",
    "y_num_list = [x[1]/all_num for x in type_num_list]\n",
    "\n",
    "index = -1\n",
    "for i in range(len(x_type_list)):\n",
    "    if x_type_list[i] == 'm':\n",
    "        index = i\n",
    "        break\n",
    "if index != -1:\n",
    "    x_type_list.pop(index)\n",
    "    y_num_list.pop(index)\n",
    "\n",
    "type_num_list,x_type_list,y_num_list"
   ]
  },
  {
   "cell_type": "code",
   "execution_count": 11,
   "id": "055f4028",
   "metadata": {},
   "outputs": [
    {
     "data": {
      "image/png": "[encoded data removed]",
      "text/plain": [
       "<Figure size 432x288 with 1 Axes>"
      ]
     },
     "metadata": {
      "needs_background": "light"
     },
     "output_type": "display_data"
    }
   ],
   "source": [
    "#用plot函数绘制折线图，线条颜色设置为绿色\n",
    "plt.title('排名前10名的词性比例',fontsize=14, fontproperties=font)\n",
    "#设置图表标题和标题字号\n",
    "# plt.tick_params(axis='both',which='major',labelsize=14)\n",
    "#设置刻度的字号\n",
    "plt.xlabel('词性',fontsize=10, fontproperties=font)\n",
    "#设置x轴标签及其字号\n",
    "plt.ylabel('比例',fontsize=10, fontproperties=font)\n",
    "plt.bar(x_type_list, y_num_list)\n",
    "plt.show()"
   ]
  },
  {
   "cell_type": "markdown",
   "id": "41c58122",
   "metadata": {},
   "source": [
    "# word2Vec 文本向量化\n"
   ]
  },
  {
   "cell_type": "code",
   "execution_count": 20,
   "id": "374718a1",
   "metadata": {},
   "outputs": [
    {
     "data": {
      "text/plain": [
       "0         马晓旭 意外 受伤 国奥 警惕 无奈 大雨 青睐 殷家 军 记者 傅亚雨 沈阳 报道 来到 ...\n",
       "1         商瑞华 首战 复仇 心切 中国 玫瑰 美国 方式 攻克 瑞典 多曼 瑞典 商瑞华 首战 求 ...\n",
       "10000     阿的江 八一 需 定位 机会 进 没进 新浪 体育讯 12 24 回到 主场 北京 金隅 迎...\n",
       "100       辽 足 签约 危机 引 注册 难关 高层 威逼利诱 合同 笑里藏刀 新浪 体育讯 24 辽 ...\n",
       "1000      揭秘 谢亚龙 带走 总局 电话 骗局 复制 南杨 轨迹 体坛周报 特约记者 张锐 北京 报道...\n",
       "                                ...                        \n",
       "798981    亚洲 燃料油 裂解 价差 收 窄 跨 合约 遭 单 抛售 文华 财经 编辑整理 丽丽 新加坡...\n",
       "798983    欧佩克 特别 会议 大幅度 减产 新华网 阿尔及尔 10 18 日电 记者 郑斌 阿尔及利亚...\n",
       "798985    价格 太 高 中国 连续 两周 未 进口 美国 大豆 卢进 高 企 美国 大豆价格 令 买家...\n",
       "798984    中国 2010 年 棉花 产量 预计 减少 5.5 新浪 财经 讯 11 18 下午 消息 ...\n",
       "798982    2010 艺术品 秋 拍 上演 六宗 中国 艺术品 市场 经历 2008 年 低潮 2009...\n",
       "Name: text, Length: 126, dtype: object"
      ]
     },
     "execution_count": 20,
     "metadata": {},
     "output_type": "execute_result"
    }
   ],
   "source": [
    "# 基于 word2vec 生成 词向量\n",
    "import numpy as np\n",
    "useless = set()\n",
    "\n",
    "doc_data = train_df['text']\n",
    "doc_data"
   ]
  },
  {
   "cell_type": "code",
   "execution_count": 21,
   "id": "7a27a608",
   "metadata": {},
   "outputs": [
    {
     "data": {
      "text/plain": [
       "(126, 500)"
      ]
     },
     "execution_count": 21,
     "metadata": {},
     "output_type": "execute_result"
    }
   ],
   "source": [
    "# word2Vec 文本向量化\n",
    "\n",
    "# # 基于 word2vec 生成 词向量\n",
    "# import numpy as np\n",
    "# useless = set()\n",
    "\n",
    "# doc_data = train_df['text']\n",
    "\n",
    "\n",
    "common_text = []\n",
    "for i in range(0, doc_data.size):\n",
    "    doc = str(doc_data[i]).split(\" \")\n",
    "    common_text.append(doc)\n",
    "\n",
    "# 词向量的维度，样本够的话300-500。\n",
    "# min_count 最小次数计数，出现次数低于这个数的就不要了\n",
    "# workers  线程数\n",
    "# window 窗口大小\n",
    "# sample 负例采样设置aa\n",
    "\n",
    "\n",
    "vector_size = 500\n",
    "model = Word2Vec(sentences=common_text, vector_size=vector_size, window=5, min_count=4,\n",
    "                  workers=12, sample=1e-5)\n",
    "# model.save(\"word2vec.model\")\n",
    "vector = model.wv['中国']\n",
    "\n",
    "# 词向量 合成 文本向量\n",
    "doc_v_list = np.array([])\n",
    "\n",
    "for split_doc in common_text:\n",
    "    used_word = float(0.0)\n",
    "    vector = vector * 0\n",
    "    for word in split_doc:\n",
    "\n",
    "        used_word += 1.0\n",
    "        try:\n",
    "            vector += model.wv[word]\n",
    "        except Exception as e:\n",
    "            # print(e.__traceback__.tb_frame.f_globals[\"__file__\"])  # 发生异常所在的文件\n",
    "            # print(e.__traceback__.tb_lineno)  # 发生异常所在的行数\n",
    "            used_word -= 1.0\n",
    "\n",
    "    vector /= used_word /200\n",
    "    doc_v_list = np.append(doc_v_list, vector)\n",
    "\n",
    "train_test = doc_v_list.reshape(len(common_text), vector_size)\n",
    "train_test.shape"
   ]
  },
  {
   "cell_type": "code",
   "execution_count": 22,
   "id": "1cc7d364",
   "metadata": {},
   "outputs": [
    {
     "data": {
      "text/html": [
       "<div>\n",
       "<style scoped>\n",
       "    .dataframe tbody tr th:only-of-type {\n",
       "        vertical-align: middle;\n",
       "    }\n",
       "\n",
       "    .dataframe tbody tr th {\n",
       "        vertical-align: top;\n",
       "    }\n",
       "\n",
       "    .dataframe thead th {\n",
       "        text-align: right;\n",
       "    }\n",
       "</style>\n",
       "<table border=\"1\" class=\"dataframe\">\n",
       "  <thead>\n",
       "    <tr style=\"text-align: right;\">\n",
       "      <th></th>\n",
       "      <th>text</th>\n",
       "      <th>label</th>\n",
       "      <th>text_len</th>\n",
       "    </tr>\n",
       "  </thead>\n",
       "  <tbody>\n",
       "    <tr>\n",
       "      <th>0</th>\n",
       "      <td>马晓旭 意外 受伤 国奥 警惕 无奈 大雨 青睐 殷家 军 记者 傅亚雨 沈阳 报道 来到 ...</td>\n",
       "      <td>0</td>\n",
       "      <td>216</td>\n",
       "    </tr>\n",
       "    <tr>\n",
       "      <th>1</th>\n",
       "      <td>商瑞华 首战 复仇 心切 中国 玫瑰 美国 方式 攻克 瑞典 多曼 瑞典 商瑞华 首战 求 ...</td>\n",
       "      <td>0</td>\n",
       "      <td>465</td>\n",
       "    </tr>\n",
       "    <tr>\n",
       "      <th>10000</th>\n",
       "      <td>阿的江 八一 需 定位 机会 进 没进 新浪 体育讯 12 24 回到 主场 北京 金隅 迎...</td>\n",
       "      <td>0</td>\n",
       "      <td>273</td>\n",
       "    </tr>\n",
       "    <tr>\n",
       "      <th>100</th>\n",
       "      <td>辽 足 签约 危机 引 注册 难关 高层 威逼利诱 合同 笑里藏刀 新浪 体育讯 24 辽 ...</td>\n",
       "      <td>0</td>\n",
       "      <td>419</td>\n",
       "    </tr>\n",
       "    <tr>\n",
       "      <th>1000</th>\n",
       "      <td>揭秘 谢亚龙 带走 总局 电话 骗局 复制 南杨 轨迹 体坛周报 特约记者 张锐 北京 报道...</td>\n",
       "      <td>0</td>\n",
       "      <td>254</td>\n",
       "    </tr>\n",
       "    <tr>\n",
       "      <th>...</th>\n",
       "      <td>...</td>\n",
       "      <td>...</td>\n",
       "      <td>...</td>\n",
       "    </tr>\n",
       "    <tr>\n",
       "      <th>798981</th>\n",
       "      <td>亚洲 燃料油 裂解 价差 收 窄 跨 合约 遭 单 抛售 文华 财经 编辑整理 丽丽 新加坡...</td>\n",
       "      <td>13</td>\n",
       "      <td>211</td>\n",
       "    </tr>\n",
       "    <tr>\n",
       "      <th>798983</th>\n",
       "      <td>欧佩克 特别 会议 大幅度 减产 新华网 阿尔及尔 10 18 日电 记者 郑斌 阿尔及利亚...</td>\n",
       "      <td>13</td>\n",
       "      <td>129</td>\n",
       "    </tr>\n",
       "    <tr>\n",
       "      <th>798985</th>\n",
       "      <td>价格 太 高 中国 连续 两周 未 进口 美国 大豆 卢进 高 企 美国 大豆价格 令 买家...</td>\n",
       "      <td>13</td>\n",
       "      <td>238</td>\n",
       "    </tr>\n",
       "    <tr>\n",
       "      <th>798984</th>\n",
       "      <td>中国 2010 年 棉花 产量 预计 减少 5.5 新浪 财经 讯 11 18 下午 消息 ...</td>\n",
       "      <td>13</td>\n",
       "      <td>135</td>\n",
       "    </tr>\n",
       "    <tr>\n",
       "      <th>798982</th>\n",
       "      <td>2010 艺术品 秋 拍 上演 六宗 中国 艺术品 市场 经历 2008 年 低潮 2009...</td>\n",
       "      <td>13</td>\n",
       "      <td>1611</td>\n",
       "    </tr>\n",
       "  </tbody>\n",
       "</table>\n",
       "<p>126 rows × 3 columns</p>\n",
       "</div>"
      ],
      "text/plain": [
       "                                                     text  label  text_len\n",
       "0       马晓旭 意外 受伤 国奥 警惕 无奈 大雨 青睐 殷家 军 记者 傅亚雨 沈阳 报道 来到 ...      0       216\n",
       "1       商瑞华 首战 复仇 心切 中国 玫瑰 美国 方式 攻克 瑞典 多曼 瑞典 商瑞华 首战 求 ...      0       465\n",
       "10000   阿的江 八一 需 定位 机会 进 没进 新浪 体育讯 12 24 回到 主场 北京 金隅 迎...      0       273\n",
       "100     辽 足 签约 危机 引 注册 难关 高层 威逼利诱 合同 笑里藏刀 新浪 体育讯 24 辽 ...      0       419\n",
       "1000    揭秘 谢亚龙 带走 总局 电话 骗局 复制 南杨 轨迹 体坛周报 特约记者 张锐 北京 报道...      0       254\n",
       "...                                                   ...    ...       ...\n",
       "798981  亚洲 燃料油 裂解 价差 收 窄 跨 合约 遭 单 抛售 文华 财经 编辑整理 丽丽 新加坡...     13       211\n",
       "798983  欧佩克 特别 会议 大幅度 减产 新华网 阿尔及尔 10 18 日电 记者 郑斌 阿尔及利亚...     13       129\n",
       "798985  价格 太 高 中国 连续 两周 未 进口 美国 大豆 卢进 高 企 美国 大豆价格 令 买家...     13       238\n",
       "798984  中国 2010 年 棉花 产量 预计 减少 5.5 新浪 财经 讯 11 18 下午 消息 ...     13       135\n",
       "798982  2010 艺术品 秋 拍 上演 六宗 中国 艺术品 市场 经历 2008 年 低潮 2009...     13      1611\n",
       "\n",
       "[126 rows x 3 columns]"
      ]
     },
     "execution_count": 22,
     "metadata": {},
     "output_type": "execute_result"
    }
   ],
   "source": [
    "train_df"
   ]
  },
  {
   "cell_type": "code",
   "execution_count": 23,
   "id": "0dc815cd",
   "metadata": {},
   "outputs": [
    {
     "name": "stdout",
     "output_type": "stream",
     "text": [
      "[ 8  9  9  9  9  9  9  9  9  9 10 10 10 10 10 10 10 10 10 11 11 11 11 11\n",
      " 11 11 11 11 12 12 12 12 12 12 12 12 12 13 13 13 13 13 13 13 13 13]\n",
      "预测结果 [8 3 5 0 4 0 2 1 0 0 8 1 0 4 0 2 0 0 0 4 5 1 5 7 2 0 7 5 7 3 4 8 3 4 1 3 3\n",
      " 4 4 7 4 4 7 7 3 2]\n",
      "[ 8  9  9  9  9  9  9  9  9  9 10 10 10 10 10 10 10 10 10 11 11 11 11 11\n",
      " 11 11 11 11 12 12 12 12 12 12 12 12 12 13 13 13 13 13 13 13 13 13]\n",
      "0.038461538461538464\n"
     ]
    }
   ],
   "source": [
    "# Count Vectors + RidgeClassifier\n",
    "\n",
    "import pandas as pd\n",
    "\n",
    "from sklearn.feature_extraction.text import CountVectorizer\n",
    "from sklearn.linear_model import RidgeClassifier\n",
    "from sklearn.metrics import f1_score\n",
    "\n",
    "all_data_size = 100\n",
    "train_data_size = 80\n",
    "test_data_size = all_data_size - train_data_size\n",
    "\n",
    "# train_df = pd.read_csv('./data/train_set.csv', sep='\\t', nrows=all_data_size)\n",
    "\n",
    "# vectorizer = CountVectorizer(max_features=300)\n",
    "# train_test = vectorizer.fit_transform(train_df['text'])\n",
    "\n",
    "print(train_df['label'].values[train_data_size:])\n",
    "\n",
    "clf = RidgeClassifier()\n",
    "clf.fit(train_test[:train_data_size], train_df['label'].values[:train_data_size])\n",
    "\n",
    "val_pred = clf.predict(train_test[train_data_size:])\n",
    "print(\"预测结果\",val_pred)\n",
    "print(\"实际标签\",train_df['label'].values[train_data_size:])\n",
    "print(f1_score(train_df['label'].values[train_data_size:], val_pred, average='macro'))\n",
    "# 0.28\n",
    "\n"
   ]
  },
  {
   "cell_type": "code",
   "execution_count": null,
   "id": "4db59b96",
   "metadata": {},
   "outputs": [],
   "source": []
  }
 ],
 "metadata": {
  "kernelspec": {
   "display_name": "Python 3 (ipykernel)",
   "language": "python",
   "name": "python3"
  },
  "language_info": {
   "codemirror_mode": {
    "name": "ipython",
    "version": 3
   },
   "file_extension": ".py",
   "mimetype": "text/x-python",
   "name": "python",
   "nbconvert_exporter": "python",
   "pygments_lexer": "ipython3",
   "version": "3.8.12"
  }
 },
 "nbformat": 4,
 "nbformat_minor": 5
}
