{
 "cells": [
  {
   "cell_type": "markdown",
   "id": "db2324d1",
   "metadata": {},
   "source": [
    "# python 多线程问题\n"
   ]
  },
  {
   "cell_type": "code",
   "execution_count": null,
   "id": "85b2bf46",
   "metadata": {},
   "outputs": [],
   "source": [
    "from concurrent.futures import ThreadPoolExecutor, as_completed\n",
    "import time\n",
    "\n",
    "thread_list = []\n",
    "def dosomthing(i):\n",
    "    time.sleep(0.1)\n",
    "    # print(i, \" is ok\")\n",
    "    thread_list.append(i)\n",
    "    return i\n",
    "    \n",
    "with ThreadPoolExecutor(max_workers=100) as t:\n",
    "    obj_list = []\n",
    "    begin = time.time()\n",
    "    for i in range(0, 1000):\n",
    "        obj = t.submit(dosomthing, i)\n",
    "        obj_list.append(obj)\n",
    "    \n",
    "    for future in as_completed(obj_list):\n",
    "        data = future.result()\n",
    "        # print(data)\n",
    "    times = time.time() - begin\n",
    "    print(\"多线程占据的全部时间\"+str(times))\n",
    "    print(len(thread_list))"
   ]
  },
  {
   "cell_type": "code",
   "execution_count": null,
   "id": "402c164d",
   "metadata": {},
   "outputs": [],
   "source": []
  }
 ],
 "metadata": {
  "kernelspec": {
   "display_name": "Python 3 (ipykernel)",
   "language": "python",
   "name": "python3"
  },
  "language_info": {
   "codemirror_mode": {
    "name": "ipython",
    "version": 3
   },
   "file_extension": ".py",
   "mimetype": "text/x-python",
   "name": "python",
   "nbconvert_exporter": "python",
   "pygments_lexer": "ipython3",
   "version": "3.8.12"
  }
 },
 "nbformat": 4,
 "nbformat_minor": 5
}
