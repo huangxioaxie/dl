{
 "cells": [
  {
   "cell_type": "code",
   "execution_count": 3,
   "id": "ae25bfb4",
   "metadata": {},
   "outputs": [],
   "source": [
    "# %run test1_read_data.ipynb\n"
   ]
  },
  {
   "cell_type": "code",
   "execution_count": 5,
   "id": "43c89b52",
   "metadata": {},
   "outputs": [
    {
     "name": "stdout",
     "output_type": "stream",
     "text": [
      "TRAIN: [1 2 3] TEST: [0]\n",
      "TRAIN: [0 2 3] TEST: [1]\n",
      "TRAIN: [0 1 3] TEST: [2]\n",
      "TRAIN: [0 1 2] TEST: [3]\n"
     ]
    }
   ],
   "source": [
    "from sklearn.model_selection import KFold\n",
    " \n",
    "import numpy as np\n",
    "\n",
    "X =np.array([[1, 2], [3, 4], [1, 2], [3, 4]])\n",
    "\n",
    "y =np.array([1, 2, 3, 4])\n",
    "\n",
    "kf = KFold(n_splits=4)\n",
    "for train_index, test_index in kf.split(X):\n",
    "\n",
    "    print(\"TRAIN:\", train_index, \"TEST:\",test_index)\n",
    "\n",
    "    X_train, X_test = X[train_index],X[test_index]\n",
    "\n",
    "y_train, y_test = y[train_index], y[test_index]"
   ]
  },
  {
   "cell_type": "code",
   "execution_count": 7,
   "id": "82b2c01a",
   "metadata": {},
   "outputs": [
    {
     "name": "stdout",
     "output_type": "stream",
     "text": [
      "train_index [ 3  4  5  6  7  8  9 10 11], test_index [0 1 2]\n",
      "train_index [ 0  1  2  6  7  8  9 10 11], test_index [3 4 5]\n",
      "train_index [ 0  1  2  3  4  5  8  9 10 11], test_index [6 7]\n",
      "train_index [ 0  1  2  3  4  5  6  7 10 11], test_index [8 9]\n",
      "train_index [0 1 2 3 4 5 6 7 8 9], test_index [10 11]\n"
     ]
    }
   ],
   "source": [
    "from sklearn.model_selection import KFold\n",
    "import numpy as np\n",
    " \n",
    "#设置shuffle=False，运行两次，发现两次结果相同\n",
    "X=np.arange(24).reshape(12,2)\n",
    "y=np.random.choice([1,2],12,p=[0.4,0.6])#1,2 总共出现12次，其中1出现的概率为0.4,2出现的概率为0.6\n",
    "kf=KFold(n_splits=5,shuffle=False)\n",
    "for train_index,test_index in kf.split(X):\n",
    "    print('train_index %s, test_index %s'%(train_index,test_index))\n",
    " \n",
    "# X=np.arange(24).reshape(12,2)\n",
    "# y=np.random.choice([1,2],12,p=[0.4,0.6])#1,2 总共出现12次，其中1出现的概率为0.4,2出现的概率为0.6\n",
    "# kf=KFold(n_splits=5,shuffle=False)\n",
    "# for train_index,test_index in kf.split(X):\n",
    "#     print('train_index %s, test_index %s'%(train_index,test_index))\n"
   ]
  },
  {
   "cell_type": "code",
   "execution_count": 10,
   "id": "14c8e9e6",
   "metadata": {},
   "outputs": [
    {
     "name": "stdout",
     "output_type": "stream",
     "text": [
      "0.21999999999999995\n"
     ]
    }
   ],
   "source": [
    "import numpy as np\n",
    "def trendline(index,data, order=1):\n",
    "    coeffs = np.polyfit(index, list(data), order)\n",
    "    slope = coeffs[-2]\n",
    "    return float(slope)\n",
    "index=[1,2,3,4]\n",
    "List=[0.2,0.2,0.3,0.9]\n",
    "resultent=trendline(index,List)\n",
    "print(resultent) "
   ]
  },
  {
   "cell_type": "code",
   "execution_count": null,
   "id": "0622954f",
   "metadata": {},
   "outputs": [
    {
     "name": "stdout",
     "output_type": "stream",
     "text": [
      "691200096\n"
     ]
    }
   ],
   "source": [
    "import sys\n",
    "import numpy as np\n",
    "import random\n",
    "words = [str(i)+\"中国词语\" for i in range(int(4E5))]\n",
    "sys.getsizeof(words) # 2 678 088 b 2Mb数据\n",
    "\n",
    "\n",
    "date =  np.array([get_random_time for i in range(1000*3600*24)])\n",
    "print(sys.getsizeof(date)) # 2 678 088 b 2Mb数据\n",
    "w2v = dict()\n",
    "time1 = get_random_time()\n",
    "for word in words:\n",
    "    w2v[word] = np.array([time1 for i in range(1000*3600*24)])\n",
    "    \n",
    "sys.getsizeof(w2v) \n",
    "# 10 485 856\n",
    "# 691 200 096\n",
    "# 100*3600*24 *78* 600000"
   ]
  },
  {
   "cell_type": "code",
   "execution_count": 9,
   "id": "4379ea8f",
   "metadata": {},
   "outputs": [],
   "source": [
    "import sys\n",
    "import numpy as np\n",
    "import random\n",
    "import datetime\n",
    "def get_random_time():\n",
    "    start = datetime.datetime(year=2020, month=4, day=12, hour=0, minute=0, second=0).timestamp()\n",
    "    return start"
   ]
  },
  {
   "cell_type": "code",
   "execution_count": 11,
   "id": "4ff50261",
   "metadata": {},
   "outputs": [
    {
     "name": "stdout",
     "output_type": "stream",
     "text": [
      "691296\n"
     ]
    },
    {
     "data": {
      "text/plain": [
       "array([1.5866208e+09, 1.5866208e+09, 1.5866208e+09, ..., 1.5866208e+09,\n",
       "       1.5866208e+09, 1.5866208e+09])"
      ]
     },
     "execution_count": 11,
     "metadata": {},
     "output_type": "execute_result"
    }
   ],
   "source": [
    "import sys\n",
    "import numpy as np\n",
    "import random\n",
    "time = get_random_time()\n",
    "list1 = []\n",
    "for i in range(3600*24):\n",
    "    list1.append(get_random_time())\n",
    "date =  np.array(list1)\n",
    "print(sys.getsizeof(date)) # 2 678 088 b 2Mb数据\n"
   ]
  },
  {
   "cell_type": "code",
   "execution_count": 1,
   "id": "ca708a11",
   "metadata": {},
   "outputs": [
    {
     "name": "stdout",
     "output_type": "stream",
     "text": [
      "78\n"
     ]
    }
   ],
   "source": [
    "import sys\n",
    "import numpy as np\n",
    "import random\n",
    "print(sys.getsizeof(\"数据\")) # 2 678 088 b 2Mb数据"
   ]
  },
  {
   "cell_type": "code",
   "execution_count": null,
   "id": "73d993f1",
   "metadata": {},
   "outputs": [],
   "source": []
  }
 ],
 "metadata": {
  "kernelspec": {
   "display_name": "Python 3 (ipykernel)",
   "language": "python",
   "name": "python3"
  },
  "language_info": {
   "codemirror_mode": {
    "name": "ipython",
    "version": 3
   },
   "file_extension": ".py",
   "mimetype": "text/x-python",
   "name": "python",
   "nbconvert_exporter": "python",
   "pygments_lexer": "ipython3",
   "version": "3.8.12"
  }
 },
 "nbformat": 4,
 "nbformat_minor": 5
}
