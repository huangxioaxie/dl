{
 "cells": [
  {
   "cell_type": "code",
   "execution_count": 56,
   "id": "229d6526",
   "metadata": {},
   "outputs": [
    {
     "name": "stdout",
     "output_type": "stream",
     "text": [
      "多线程占据的全部时间607.6518447399139\n",
      "13986\n",
      "13986\n",
      "13986\n",
      "错误的次数 0\n",
      "(13986, 2)\n"
     ]
    }
   ],
   "source": [
    "%run wheel.ipynb"
   ]
  },
  {
   "cell_type": "code",
   "execution_count": null,
   "id": "4ef27b31",
   "metadata": {},
   "outputs": [],
   "source": [
    "import geatpy as ea\n",
    "import numpy as np\n",
    "\n",
    "magic = {  'n': 1, 'v': 1,  'nr':1, 'ns': 1,'vn':1, 'a':1}\n",
    "get_f1_score(get_doc_vec_word2vec_ci(5000),5000,4000)-get_f1_score(get_doc_vec_word2vec(5000),5000,4000)\n",
    "tmp1 = get_doc_vec_word2vec()\n",
    "# 构建问题\n",
    "r = 1  # 目标函数需要用到的额外数据\n",
    "@ea.Problem.single\n",
    "def evalVars(Vars):  # 定义目标函数（含约束）\n",
    "    global magic\n",
    "    magic = {  'n': 1, 'v': 1,  'nr':1, 'ns': 1}\n",
    "    magic['n'] = Vars[0]\n",
    "    magic['v'] = Vars[1]\n",
    "    magic['nr'] = Vars[2]\n",
    "    magic['ns'] = Vars[3]\n",
    "    magic['vn'] = Vars[4]\n",
    "    magic['a'] = Vars[5]\n",
    "    \n",
    "    f = get_f1_score(get_doc_vec_word2vec_ci())-get_f1_score(tmp1)  # 计算目标函数值\n",
    "    x1 = Vars[0]\n",
    "    x2 = Vars[1]\n",
    "    CV = np.array([-x1,\n",
    "                    -x2])  # 计算违反约束程度\n",
    "    return f, CV\n",
    "\n",
    "problem = ea.Problem(name='soea quick start demo',\n",
    "                        M=1,  # 目标维数\n",
    "                        maxormins=[-1],  # 目标最小最大化标记列表，1：最小化该目标；-1：最大化该目标\n",
    "                        Dim=6,  # 决策变量维数\n",
    "                        varTypes=[0, 0, 0, 0, 0, 0],  # 决策变量的类型列表，0：实数；1：整数\n",
    "                        #varTypes=[1, 1, 1, 1, 1, 1],  # 决策变量的类型列表，0：实数；1：整数\n",
    "                        lb=[1, 1, 1, 1, 1, 1],  # 决策变量下界\n",
    "                        ub=[10, 10, 10, 10, 10, 10],  # 决策变量上界\n",
    "                        evalVars=evalVars)\n",
    "# 构建算法\n",
    "algorithm = ea.soea_SEGA_templet(problem,\n",
    "                                    ea.Population(Encoding='RI', NIND=20),\n",
    "                                    MAXGEN=50,  # 最大进化代数。\n",
    "                                    logTras=1,  # 表示每隔多少代记录一次日志信息，0表示不记录。\n",
    "                                    trappedValue=1e-6,  # 单目标优化陷入停滞的判断阈值。\n",
    "                                    maxTrappedCount=10)  # 进化停滞计数器最大上限值。\n",
    "# 求解\n",
    "res = ea.optimize(algorithm, seed=1, verbose=True, drawing=1, outputMsg=True, drawLog=False, saveFlag=True, dirName='result')\n",
    "#\n",
    "# 2.020538330078125\t1.908294677734375\t1.7643871307373047\t1.25823974609375\t1.73739624023437\n",
    "# The best objective value is: 0.05667409719823868\n",
    "\n",
    "# 2\t2\t1\t5\t2\t1\n",
    "#  0.06089019702116161\n",
    "\n",
    "# 2\t2\t1\t2\t1\t1\n",
    "# 0.05368912979428031"
   ]
  },
  {
   "cell_type": "code",
   "execution_count": 3,
   "id": "41968467",
   "metadata": {},
   "outputs": [
    {
     "name": "stdout",
     "output_type": "stream",
     "text": [
      "0.8935173816633843\n",
      "-0.004739546413584317\n",
      "-0.0032393212375131375\n",
      "-0.003209356634652716\n"
     ]
    }
   ],
   "source": [
    "# global train_df\n",
    "# train_df = train_df.sample(frac=1)\n",
    "\n",
    "print(get_f1_score(get_doc_vec_word2vec_ci(10000),10000,8000))\n",
    "\n",
    "magic = {  'n': 1, 'v': 1,  'nr':1, 'ns': 1,'vn':1, 'a':1}\n",
    "print(get_f1_score(get_doc_vec_word2vec_ci())-get_f1_score(get_doc_vec_word2vec()) )\n",
    "\n",
    "\n",
    "magic = {  'n': 2, 'v': 2,  'nr':1, 'ns': 2,'vn':1, 'a':1}\n",
    "print(get_f1_score(get_doc_vec_word2vec_ci())-get_f1_score(get_doc_vec_word2vec()) )\n",
    "\n",
    "magic = {  'n': 1.86, 'v': 2.97,  'nr':1, 'ns': 9.96,'vn':3.22, 'a':2.36}\n",
    "print(get_f1_score(get_doc_vec_word2vec_ci())-get_f1_score(get_doc_vec_word2vec()) )"
   ]
  },
  {
   "cell_type": "code",
   "execution_count": 55,
   "id": "9bdadf80",
   "metadata": {},
   "outputs": [
    {
     "name": "stdout",
     "output_type": "stream",
     "text": [
      "[[ 0.14219718  0.05583288  0.13679722 ...  0.01935566 -0.25320807\n",
      "  -0.02733258]\n",
      " [ 0.48775667  0.12137596  0.42230827 ...  0.0212604  -0.85764903\n",
      "  -0.07042249]\n",
      " [ 0.27603334  0.07254547  0.19688909 ...  0.03180031 -0.49250126\n",
      "  -0.0535061 ]\n",
      " ...\n",
      " [ 0.04920678  0.01164377  0.04076994 ...  0.00612429 -0.07227872\n",
      "  -0.0098423 ]\n",
      " [ 0.68056744  0.13679799  0.52584213 ...  0.11579675 -1.25318575\n",
      "  -0.14118278]\n",
      " [ 0.27196893  0.06230079  0.26615572 ...  0.0672752  -0.51347643\n",
      "  -0.04524466]]\n",
      "                                                     text  label\n",
      "100520  太阳 123 116 战胜 火箭 新浪 体育讯 北京 时间 11 23 火箭 主场 迎战 饱...      0\n",
      "256832  伤停 影响 沙尔克 剩 完美 防线 拜仁 多特 境况 迥异 说 伤病 提 阿森纳 西汉姆 枪...      3\n",
      "340267  民进党 紧急 清查 旧 帐 陈水扁 捐款 金额 中新网 25 日电 3.4 亿元 新台币 下...      7\n",
      "402925  蝎子 饮 爱情 毒药 图 新浪 网友 隐身草     星座 真心话 征稿启事 寂寞 天 伤心...      8\n",
      "403828  个性 测试 测试 精神 疲劳度 图 独家 撰稿 心理 测试 征稿启事 明明 工作 太 忙 头...      8\n",
      "...                                                   ...    ...\n",
      "265020  顾彤 房地产 未来 20 年 解决 效率 公平       顾彤 几位 老总 讲 想 援引 ...      4\n",
      "402924  怀念 过往 此岸 荼靡 图 新浪 网友 默沉     星座 真心话 征稿启事 故事 夏天 说...      8\n",
      "256919  足彩 31064 元 单 命中 奖 胜负彩 08064 期比 北京 时间 25 中国 足球彩...      3\n",
      "403038  双鱼 白羊 动 真情 图     新浪 网友 草鱼     星座 情感故事 征稿   情 不...      8\n",
      "131651  策划 盘点 银幕 十大 精神病人 组图 新浪 娱乐 讯 最新 电影 黑暗 骑士 中 小丑 燃...      1\n",
      "\n",
      "[100 rows x 2 columns]\n",
      "Calinski-Harabasz Score 809.9755471309505\n",
      "Calinski-Harabasz Score 800.5456673491683\n",
      "Calinski-Harabasz Score 1055.4892178697298\n",
      "Calinski-Harabasz Score 1102.1722174248353\n"
     ]
    }
   ],
   "source": [
    "import numpy as np\n",
    "import matplotlib.pyplot as plt\n",
    "%matplotlib inline\n",
    "from sklearn.datasets import make_blobs \n",
    "from numpy.random import rand\n",
    "from sklearn.cluster import Birch\n",
    "from sklearn import metrics\n",
    "\n",
    "from sklearn.preprocessing import StandardScaler\n",
    "\n",
    "X = train_test[0:100]\n",
    "# print(X)\n",
    "# print(train_df[0:100])\n",
    "y_pred = Birch( n_clusters = 14, threshold = 0.1, branching_factor=40).fit_predict(X)\n",
    "# plt.scatter(X[:, 0], X[:, 1], c=y_pred)\n",
    "# plt.show()\n",
    "from sklearn.cluster import KMeans\n",
    "\n",
    "cluster = KMeans(n_clusters=14, random_state=0).fit_predict(X)\n",
    "\n",
    "print (\"Calinski-Harabasz Score\", metrics.calinski_harabasz_score(X, y_pred))\n",
    "print (\"Calinski-Harabasz Score\", metrics.calinski_harabasz_score(X, cluster))\n",
    "\n",
    "#标准化特征\n",
    "# X = StandardScaler().fit_transform(X)\n",
    "from sklearn.decomposition import PCA\n",
    "pca=PCA(n_components=20)\n",
    "X=pca.fit_transform(X)\n",
    "\n",
    "\n",
    "y_pred = Birch( n_clusters = 14, threshold = 0.1, branching_factor=30).fit_predict(X)\n",
    "# plt.scatter(X[:, 0], X[:, 1], c=y_pred)\n",
    "# plt.show()\n",
    "from sklearn.cluster import KMeans\n",
    "\n",
    "cluster = KMeans(n_clusters=14, random_state=0).fit_predict(X)\n",
    "\n",
    "print (\"Calinski-Harabasz Score\", metrics.calinski_harabasz_score(X, y_pred))\n",
    "print (\"Calinski-Harabasz Score\", metrics.calinski_harabasz_score(X, cluster))\n"
   ]
  },
  {
   "cell_type": "code",
   "execution_count": null,
   "id": "8ea3bb20",
   "metadata": {},
   "outputs": [],
   "source": []
  },
  {
   "cell_type": "code",
   "execution_count": null,
   "id": "72cdc9f1",
   "metadata": {},
   "outputs": [],
   "source": []
  }
 ],
 "metadata": {
  "kernelspec": {
   "display_name": "Python 3 (ipykernel)",
   "language": "python",
   "name": "python3"
  },
  "language_info": {
   "codemirror_mode": {
    "name": "ipython",
    "version": 3
   },
   "file_extension": ".py",
   "mimetype": "text/x-python",
   "name": "python",
   "nbconvert_exporter": "python",
   "pygments_lexer": "ipython3",
   "version": "3.8.12"
  }
 },
 "nbformat": 4,
 "nbformat_minor": 5
}
