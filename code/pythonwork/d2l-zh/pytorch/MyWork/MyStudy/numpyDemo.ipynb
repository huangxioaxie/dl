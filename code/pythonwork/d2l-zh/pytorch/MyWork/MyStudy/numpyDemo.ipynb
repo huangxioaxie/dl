{
 "cells": [
  {
   "cell_type": "code",
   "execution_count": null,
   "id": "23a543d5",
   "metadata": {},
   "outputs": [],
   "source": [
    "# 计算两个一维Tensor的距离\n",
    "import torch\n"
   ]
  }
 ],
 "metadata": {
  "kernelspec": {
   "display_name": "Python 3 (ipykernel)",
   "language": "python",
   "name": "python3"
  },
  "language_info": {
   "codemirror_mode": {
    "name": "ipython",
    "version": 3
   },
   "file_extension": ".py",
   "mimetype": "text/x-python",
   "name": "python",
   "nbconvert_exporter": "python",
   "pygments_lexer": "ipython3",
   "version": "3.8.12"
  }
 },
 "nbformat": 4,
 "nbformat_minor": 5
}
