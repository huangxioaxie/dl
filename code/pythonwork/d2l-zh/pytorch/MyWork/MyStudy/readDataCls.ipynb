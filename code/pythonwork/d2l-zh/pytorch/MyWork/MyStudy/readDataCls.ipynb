{
 "cells": [
  {
   "cell_type": "markdown",
   "id": "989c0901",
   "metadata": {},
   "source": [
    "# 1. 加载依赖包\n"
   ]
  },
  {
   "cell_type": "code",
   "execution_count": 25,
   "id": "5c59b671",
   "metadata": {},
   "outputs": [],
   "source": [
    "import thulac\n",
    "import os\n",
    "import re\n",
    "import pandas as pd\n",
    "from gensim.models import Word2Vec"
   ]
  },
  {
   "cell_type": "markdown",
   "id": "60fb14cd",
   "metadata": {},
   "source": [
    "# 2. 读取停词表\n"
   ]
  },
  {
   "cell_type": "code",
   "execution_count": 26,
   "id": "544d5a74",
   "metadata": {},
   "outputs": [
    {
     "name": "stdout",
     "output_type": "stream",
     "text": [
      "3908\n",
      "['的', '。', '是', ' ', '\\n', '日', '月', '.', '%', '\\u3000', '--', '?', '“', '”', '》', '－－', 'able', 'about', 'above', 'according', 'accordingly', 'across', 'actually', 'after', 'afterwards', 'again', 'against', \"ain't\", 'all', 'allow', 'allows', 'almost', 'alone', 'along', 'already', 'also', 'although', 'always', 'am', 'among', 'amongst', 'an', 'and', 'another', 'any', 'anybody', 'anyhow', 'anyone', 'anything', 'anyway', 'anyways', 'anywhere', 'apart', 'appear', 'appreciate', 'appropriate', 'are', \"aren't\", 'around', 'as', \"a's\", 'aside', 'ask', 'asking', 'associated', 'at', 'available', 'away', 'awfully', 'be', 'became', 'because', 'become', 'becomes', 'becoming', 'been', 'before', 'beforehand', 'behind', 'being', 'believe', 'below', 'beside', 'besides', 'best', 'better', 'between', 'beyond', 'both', 'brief', 'but', 'by', 'came', 'can', 'cannot', 'cant', \"can't\", 'cause', 'causes', 'certain']\n"
     ]
    }
   ],
   "source": [
    "\n",
    "def load_stop_word():\n",
    "    stop_word = ['的', '。', '是', ' ', '\\n', '日', '月', '.', '%','\\u3000']\n",
    "    stop_word_file = 'c:/data/stopwords'\n",
    "    stop_word_dirs = os.listdir(stop_word_file)\n",
    "    for textName in stop_word_dirs:\n",
    "        filename = stop_word_file + '/' + textName\n",
    "        with open(filename, 'r', encoding='utf-8') as file_object:\n",
    "            line = file_object.readline()\n",
    "            while line:\n",
    "                stop_word.append(line[0:-1])\n",
    "                line = file_object.readline()\n",
    "    return stop_word\n",
    "\n",
    "stop_word = load_stop_word()\n",
    "print(len(stop_word))\n",
    "print(stop_word[0:100])"
   ]
  },
  {
   "cell_type": "markdown",
   "id": "363c0ca1",
   "metadata": {},
   "source": [
    "# 2.5 分词前修改thulac源码中的bug\n",
    "\n",
    "对thulac的2个bug进行修改\n",
    "\n"
   ]
  },
  {
   "cell_type": "code",
   "execution_count": 27,
   "id": "9fb64068",
   "metadata": {},
   "outputs": [],
   "source": [
    "from contextlib import contextmanager\n",
    "from io import StringIO\n",
    "import time\n",
    "\n",
    "\n",
    "@contextmanager\n",
    "def add_clock_method_to_time():\n",
    "    py_gt_3_8 = not hasattr(time, \"clock\")\n",
    "    if py_gt_3_8:\n",
    "        setattr(time, \"clock\", time.perf_counter)\n",
    "    try:\n",
    "        yield\n",
    "    finally:\n",
    "        if py_gt_3_8:\n",
    "            delattr(time, \"clock\")"
   ]
  },
  {
   "cell_type": "markdown",
   "id": "43749d2c",
   "metadata": {},
   "source": [
    "# 3. 分词\n",
    "\n",
    "输入一个文本 对文本中的词语 按照 空格 切分 去掉标点等停词\n",
    "填充一个全局的字典， 词语 -> 词性\n"
   ]
  },
  {
   "cell_type": "code",
   "execution_count": 28,
   "id": "e27fd1ae",
   "metadata": {},
   "outputs": [
    {
     "name": "stdout",
     "output_type": "stream",
     "text": [
      "Model loaded succeed\n"
     ]
    },
    {
     "data": {
      "text/plain": [
       "{'控制': 'v', '训练': 'v', '文章': 'n', '数量': 'n'}"
      ]
     },
     "execution_count": 28,
     "metadata": {},
     "output_type": "execute_result"
    }
   ],
   "source": [
    " # 默认模式，分词的同时进行词性标注\n",
    "thu = thulac.thulac(filt=True, seg_only=False)\n",
    "word_type = {}\n",
    "def cut_doc(doc):\n",
    "    with add_clock_method_to_time():\n",
    "        words = thu.cut(doc)\n",
    "    words_in_doc = \"\"\n",
    "    for word, wordType in words:\n",
    "        if word in stop_word: continue\n",
    "        words_in_doc +=  word + \" \"\n",
    "        word_type[word] = wordType\n",
    "        \n",
    "    return words_in_doc\n",
    "\n",
    "words_in_doc = cut_doc(\"用来控制训练的文章数量\")\n",
    "words_in_doc\n",
    "\n",
    "word_type"
   ]
  },
  {
   "cell_type": "markdown",
   "id": "161b39eb",
   "metadata": {},
   "source": [
    "# 4. 读取数据\n",
    "\n",
    "每类新闻中抽取1000个新闻构建 dataframe"
   ]
  },
  {
   "cell_type": "code",
   "execution_count": 29,
   "id": "c7401d8f",
   "metadata": {},
   "outputs": [
    {
     "name": "stdout",
     "output_type": "stream",
     "text": [
      "['体育', '娱乐', '家居', '彩票', '房产', '教育', '时尚', '时政', '星座', '游戏', '社会', '科技', '股票', '财经']\n"
     ]
    },
    {
     "data": {
      "text/html": [
       "<div>\n",
       "<style scoped>\n",
       "    .dataframe tbody tr th:only-of-type {\n",
       "        vertical-align: middle;\n",
       "    }\n",
       "\n",
       "    .dataframe tbody tr th {\n",
       "        vertical-align: top;\n",
       "    }\n",
       "\n",
       "    .dataframe thead th {\n",
       "        text-align: right;\n",
       "    }\n",
       "</style>\n",
       "<table border=\"1\" class=\"dataframe\">\n",
       "  <thead>\n",
       "    <tr style=\"text-align: right;\">\n",
       "      <th></th>\n",
       "      <th>text</th>\n",
       "      <th>label</th>\n",
       "    </tr>\n",
       "  </thead>\n",
       "  <tbody>\n",
       "    <tr>\n",
       "      <th>0</th>\n",
       "      <td>马晓旭 意外 受伤 警惕 大雨 青睐 殷 家 军 记者 傅亚雨 沈阳 报道 沈阳 摆脱 雨水...</td>\n",
       "      <td>0</td>\n",
       "    </tr>\n",
       "    <tr>\n",
       "      <th>1</th>\n",
       "      <td>商瑞华 首战 复仇 心切 中国 玫瑰 美国 方式 攻克 瑞典 曼 瑞典 商瑞华 求 信心 也...</td>\n",
       "      <td>0</td>\n",
       "    </tr>\n",
       "    <tr>\n",
       "      <th>10</th>\n",
       "      <td>冠军 球队 迎新 欢乐派 黄旭 获 大奖 张军 赢 PK赛 新 浪 体育 冠军 高尔夫球队 ...</td>\n",
       "      <td>0</td>\n",
       "    </tr>\n",
       "    <tr>\n",
       "      <th>100</th>\n",
       "      <td>辽足 签约 危机 引 注册 难关 高层 威逼利诱 合同 笑里藏刀 新 浪 体育 爆发 集体 ...</td>\n",
       "      <td>0</td>\n",
       "    </tr>\n",
       "    <tr>\n",
       "      <th>1000</th>\n",
       "      <td>揭秘 谢亚龙 带走 总局 电话 骗 局 复制 杨 轨迹 体坛 周报 特约 记者 张锐 北京 ...</td>\n",
       "      <td>0</td>\n",
       "    </tr>\n",
       "  </tbody>\n",
       "</table>\n",
       "</div>"
      ],
      "text/plain": [
       "                                                   text label\n",
       "0     马晓旭 意外 受伤 警惕 大雨 青睐 殷 家 军 记者 傅亚雨 沈阳 报道 沈阳 摆脱 雨水...     0\n",
       "1     商瑞华 首战 复仇 心切 中国 玫瑰 美国 方式 攻克 瑞典 曼 瑞典 商瑞华 求 信心 也...     0\n",
       "10    冠军 球队 迎新 欢乐派 黄旭 获 大奖 张军 赢 PK赛 新 浪 体育 冠军 高尔夫球队 ...     0\n",
       "100   辽足 签约 危机 引 注册 难关 高层 威逼利诱 合同 笑里藏刀 新 浪 体育 爆发 集体 ...     0\n",
       "1000  揭秘 谢亚龙 带走 总局 电话 骗 局 复制 杨 轨迹 体坛 周报 特约 记者 张锐 北京 ...     0"
      ]
     },
     "execution_count": 29,
     "metadata": {},
     "output_type": "execute_result"
    }
   ],
   "source": [
    "my_df = pd.DataFrame([],index=[],columns=['text','label'])\n",
    "\n",
    "label_num = {}\n",
    "\n",
    "# 返回 list[str]\n",
    "def read_content():\n",
    "    # doc_data 记录 文章数据\n",
    "    \n",
    "    # my_df = pd.DataFrame([],index=[],columns=['text','label'])\n",
    "    \n",
    "    DOC_COUNT_MAX = 100\n",
    "    \n",
    "    \n",
    "    news_file = 'c:/data/THUCNews'\n",
    "    news_file_dirs = os.listdir(news_file)\n",
    "    print(news_file_dirs)\n",
    "    \n",
    "    label_index = -1\n",
    "    for label in news_file_dirs:\n",
    "        label_index += 1\n",
    "        label_num[label] = label_index\n",
    "        \n",
    "        file = news_file + '/' + label\n",
    "        doc_ids = os.listdir(file)\n",
    "        doc_num = 0\n",
    "        for doc_name in doc_ids:\n",
    "            doc_num += 1\n",
    "            if doc_num >= DOC_COUNT_MAX:\n",
    "                break\n",
    "            doc_file_name = file + '/' + doc_name\n",
    "            doc_id = doc_name[0:-4]\n",
    "            \n",
    "            doc_content = \"\"\n",
    "            \n",
    "            with open(doc_file_name, 'r', encoding='utf-8') as file_object:\n",
    "                line = file_object.readline()\n",
    "                while line:\n",
    "                    doc_content += line\n",
    "                    line = file_object.readline()\n",
    "                    \n",
    "            # print(doc_name[0:-4], len(doc_content),label)\n",
    "            my_df.loc[doc_id] = [cut_doc(doc_content), int(label_index)]\n",
    "            \n",
    "           \n",
    "    return my_df\n",
    "\n",
    "my_df = read_content()\n",
    "\n",
    "train_df = my_df\n",
    "train_df.head()"
   ]
  },
  {
   "cell_type": "code",
   "execution_count": 30,
   "id": "61c75d6f",
   "metadata": {},
   "outputs": [
    {
     "name": "stdout",
     "output_type": "stream",
     "text": [
      "count    1386.000000\n",
      "mean      271.459596\n",
      "std       253.710538\n",
      "min         6.000000\n",
      "25%        91.000000\n",
      "50%       208.000000\n",
      "75%       367.500000\n",
      "max      2265.000000\n",
      "Name: text_len, dtype: float64\n"
     ]
    }
   ],
   "source": [
    "%matplotlib  inline\n",
    "train_df = my_df\n",
    "train_df['text_len'] = train_df['text'].apply(lambda x: len(x.split(' ')))\n",
    "print(train_df['text_len'].describe())"
   ]
  },
  {
   "cell_type": "code",
   "execution_count": 1,
   "id": "4be2d885",
   "metadata": {},
   "outputs": [
    {
     "ename": "NameError",
     "evalue": "name 'train_df' is not defined",
     "output_type": "error",
     "traceback": [
      "\u001b[1;31m---------------------------------------------------------------------------\u001b[0m",
      "\u001b[1;31mNameError\u001b[0m                                 Traceback (most recent call last)",
      "Input \u001b[1;32mIn [1]\u001b[0m, in \u001b[0;36m<module>\u001b[1;34m\u001b[0m\n\u001b[0;32m      1\u001b[0m \u001b[38;5;28;01mimport\u001b[39;00m \u001b[38;5;21;01mmatplotlib\u001b[39;00m\u001b[38;5;21;01m.\u001b[39;00m\u001b[38;5;21;01mpyplot\u001b[39;00m \u001b[38;5;28;01mas\u001b[39;00m \u001b[38;5;21;01mplt\u001b[39;00m\n\u001b[0;32m      2\u001b[0m \u001b[38;5;28;01mimport\u001b[39;00m \u001b[38;5;21;01mnumpy\u001b[39;00m \u001b[38;5;28;01mas\u001b[39;00m \u001b[38;5;21;01mnp\u001b[39;00m\n\u001b[1;32m----> 3\u001b[0m _ \u001b[38;5;241m=\u001b[39m plt\u001b[38;5;241m.\u001b[39mhist(\u001b[43mtrain_df\u001b[49m[\u001b[38;5;124m'\u001b[39m\u001b[38;5;124mtext_len\u001b[39m\u001b[38;5;124m'\u001b[39m], bins\u001b[38;5;241m=\u001b[39m\u001b[38;5;241m200\u001b[39m)\n\u001b[0;32m      4\u001b[0m plt\u001b[38;5;241m.\u001b[39mxlabel(\u001b[38;5;124m'\u001b[39m\u001b[38;5;124mText char count\u001b[39m\u001b[38;5;124m'\u001b[39m)\n\u001b[0;32m      5\u001b[0m plt\u001b[38;5;241m.\u001b[39mtitle(\u001b[38;5;124m\"\u001b[39m\u001b[38;5;124mHistogram of char count\u001b[39m\u001b[38;5;124m\"\u001b[39m)\n",
      "\u001b[1;31mNameError\u001b[0m: name 'train_df' is not defined"
     ]
    }
   ],
   "source": [
    "import matplotlib.pyplot as plt\n",
    "import numpy as np\n",
    "_ = plt.hist(train_df['text_len'], bins=200)\n",
    "plt.xlabel('Text char count')\n",
    "plt.title(\"Histogram of char count\")\n",
    "x_values=list(range(0,1000,50))\n",
    "#x轴的数字是0到10这11个整数\n",
    "y_values=[x/10 for x in x_values]\n",
    "\n",
    "#用plot函数绘制折线图，线条颜色设置为绿色\n",
    "plt.title('Squares',fontsize=24)\n",
    "#设置图表标题和标题字号\n",
    "plt.tick_params(axis='both',which='major',labelsize=14)\n",
    "#设置刻度的字号\n",
    "plt.xlabel('Numbers',fontsize=14)\n",
    "#设置x轴标签及其字号\n",
    "plt.ylabel('Squares',fontsize=14)\n",
    "#设置y轴标签及其字号"
   ]
  },
  {
   "cell_type": "code",
   "execution_count": 32,
   "id": "fd09096f",
   "metadata": {},
   "outputs": [
    {
     "name": "stdout",
     "output_type": "stream",
     "text": [
      "41130\n",
      "('家', 5541)\n",
      "('说', 3236)\n",
      "('价', 1969)\n",
      "('刘宝瑞', 1)\n"
     ]
    }
   ],
   "source": [
    "from collections import Counter\n",
    "all_lines = ' '.join(list(train_df['text']))\n",
    "word_count = Counter(all_lines.split(' '))\n",
    "word_count = sorted(word_count.items(), key=lambda d:d[1], reverse = True)\n",
    "\n",
    "print(len(word_count))\n",
    "\n",
    "print(word_count[0])\n",
    "print(word_count[1])\n",
    "print(word_count[2])\n",
    "\n",
    "print(word_count[-1])"
   ]
  },
  {
   "cell_type": "code",
   "execution_count": 53,
   "id": "1d59ea5c",
   "metadata": {},
   "outputs": [
    {
     "name": "stdout",
     "output_type": "stream",
     "text": [
      "0          0\n",
      "1          0\n",
      "10         0\n",
      "100        0\n",
      "1000       0\n",
      "          ..\n",
      "799071    13\n",
      "799072    13\n",
      "799073    13\n",
      "799074    13\n",
      "799075    13\n",
      "Name: label, Length: 1386, dtype: int32\n",
      "(1, 3000)\n",
      "0.012471655328798185\n",
      "0.019585253456221197\n",
      "0.0\n"
     ]
    }
   ],
   "source": [
    "# Count Vectors + RidgeClassifier\n",
    "print(train_df['label'])\n",
    "train_df['label'] = train_df['label'].astype('int')\n",
    "import pandas as pd\n",
    "\n",
    "from sklearn.feature_extraction.text import CountVectorizer\n",
    "from sklearn.linear_model import RidgeClassifier\n",
    "from sklearn.metrics import f1_score\n",
    "\n",
    "all_data_size = 1200\n",
    "train_data_size = 1000\n",
    "test_data_size = all_data_size - train_data_size\n",
    "\n",
    "\n",
    "vectorizer = CountVectorizer(max_features=3000)\n",
    "train_test = vectorizer.fit_transform(train_df['text'])\n",
    "\n",
    "print(train_test[0].shape )\n",
    "clf = RidgeClassifier()\n",
    "clf.fit(train_test[:train_data_size], train_df['label'].values[:train_data_size])\n",
    "val_pred = clf.predict(train_test[train_data_size:])\n",
    "\n",
    "print(f1_score(train_df['label'].values[train_data_size:], val_pred, average='macro'))\n",
    "# 0.28\n",
    "\n",
    "# svm\n",
    "from sklearn.svm import SVC\n",
    "clf = SVC(kernel='linear', C=30, gamma=0.5, decision_function_shape='ovo')\n",
    "clf.fit(train_test[:train_data_size], train_df['label'].values[:train_data_size])\n",
    "val_pred = clf.predict(train_test[train_data_size:])\n",
    "\n",
    "print(f1_score(train_df['label'].values[train_data_size:], val_pred, average='macro'))\n",
    "\n",
    "\n",
    "from sklearn import neighbors\n",
    "clf = neighbors.KNeighborsClassifier(n_neighbors = 13 , weights='distance')\n",
    "clf.fit(train_test[:train_data_size], train_df['label'].values[:train_data_size])\n",
    "val_pred = clf.predict(train_test[train_data_size:])\n",
    "\n",
    "print(f1_score(train_df['label'].values[train_data_size:], val_pred, average='macro'))"
   ]
  },
  {
   "cell_type": "code",
   "execution_count": 54,
   "id": "7c11905f",
   "metadata": {},
   "outputs": [
    {
     "name": "stdout",
     "output_type": "stream",
     "text": [
      "0.017857142857142856\n"
     ]
    }
   ],
   "source": [
    "# TF-IDF +  RidgeClassifier\n",
    "\n",
    "import pandas as pd\n",
    "\n",
    "from sklearn.feature_extraction.text import TfidfVectorizer\n",
    "from sklearn.linear_model import RidgeClassifier\n",
    "from sklearn.linear_model import LinearRegression\n",
    "from sklearn.metrics import f1_score\n",
    "\n",
    "\n",
    "tfidf = TfidfVectorizer(ngram_range=(1,4), max_features=3000)\n",
    "\n",
    "train_test = tfidf.fit_transform(train_df['text'])\n",
    "\n",
    "clf = RidgeClassifier()\n",
    "clf.fit(train_test[:train_data_size], train_df['label'].values[:train_data_size])\n",
    "\n",
    "val_pred = clf.predict(train_test[train_data_size:])\n",
    "\n",
    "print(f1_score(train_df['label'].values[train_data_size:], val_pred, average='macro'))"
   ]
  },
  {
   "cell_type": "code",
   "execution_count": 58,
   "id": "e64ea828",
   "metadata": {},
   "outputs": [],
   "source": [
    "# 引入外部语义来训练word2vec\n",
    "# 从之前的项目中找\n",
    "import pymysql\n",
    "\n",
    "db = pymysql.connect(host=\"47.97.215.99\", user=\"root\", passwd=\"3.1415Pai\", database=\"news\", charset='utf8')\n",
    "# 使用cursor()方法获取操作游标\n",
    "cursor = db.cursor()\n",
    "\n",
    "# 读取数据库 create_table_news 中的title\n",
    "sql = \"SELECT  title \" \\\n",
    "      \"FROM create_table_news \" \\\n",
    "      \"ORDER BY news_id DESC \" \\\n",
    "      \"LIMIT 100 \"\n",
    "cursor.execute(sql)\n",
    "title_list = cursor.fetchall()\n",
    "\n",
    "# doc_data 记录 文章数据\n",
    "doc_data = set()\n",
    "\n",
    "for doc in title_list:\n",
    "    if doc == None or len(doc) < 1:\n",
    "        continue\n",
    "    doc = str(doc[0])\n",
    "    doc = doc.replace(\" \",\"\").replace(\"\\n\",\"\")\n",
    "    if doc == None or len(doc) < 1:\n",
    "        continue\n",
    "    doc_data.add(doc)\n",
    "    \n",
    "# 读取数据库 create_table_news 中的title\n",
    "sql1 = \"SELECT doc_content \" \\\n",
    "      \"FROM create_table_news \" \\\n",
    "      \"ORDER BY news_id DESC \" \\\n",
    "      \"LIMIT 100 \"\n",
    "cursor.execute(sql1)\n",
    "doc_content_list = cursor.fetchall()\n",
    "for doc in doc_content_list:\n",
    "    if doc == None or len(doc) < 1:\n",
    "        continue\n",
    "    doc = str(doc[0])\n",
    "    doc = doc.replace(\" \",\"\").replace(\"\\n\",\"\")\n",
    "    if doc == None or len(doc) < 1:\n",
    "        continue\n",
    "    doc_data.add(doc)\n"
   ]
  },
  {
   "cell_type": "markdown",
   "id": "be8869be",
   "metadata": {},
   "source": [
    "# 为word2vec 准备 切割后的语料common_text\n"
   ]
  },
  {
   "cell_type": "code",
   "execution_count": null,
   "id": "c8c7e096",
   "metadata": {},
   "outputs": [],
   "source": [
    "\n",
    "\n",
    "doc_data = train_df['text']\n",
    "common_text = []\n",
    "for i in range(0, doc_data.size):\n",
    "    doc = str(doc_data[i]).split(\" \")\n",
    "    common_text.append(doc)"
   ]
  },
  {
   "cell_type": "markdown",
   "id": "e1de026e",
   "metadata": {},
   "source": [
    "# 训练word2vec\n",
    "\n"
   ]
  },
  {
   "cell_type": "code",
   "execution_count": null,
   "id": "9131bc9b",
   "metadata": {},
   "outputs": [],
   "source": [
    "\n",
    "\n",
    "useless = set()\n",
    "for i in range(0, 4):\n",
    "    if int(word_count[i][1]) > len(word_count)*2:\n",
    "        useless.add(word_count[i][0])\n",
    "doc_data = train_df['text']\n",
    "common_text = []\n",
    "for i in range(0, doc_data.size):\n",
    "    doc = str(doc_data[i]).split(\" \")\n",
    "    common_text.append(doc)\n",
    "\n",
    "# 词向量的维度，样本够的话300-500。\n",
    "# min_count 最小次数计数，出现次数低于这个数的就不要了\n",
    "# workers  线程数\n",
    "# window 窗口大小\n",
    "# sample 负例采样设置aa\n",
    "\n",
    "\n",
    "vector_size = 500\n",
    "model = Word2Vec(sentences=common_text, vector_size=vector_size, window=5, min_count=4,\n",
    "                  workers=12, sample=1e-5)\n",
    "# model.save(\"word2vec.model\")\n",
    "vector = model.wv['中国']\n",
    "\n",
    "# 词向量 合成 文本向量\n",
    "doc_v_list = np.array([])\n",
    "\n",
    "for split_doc in common_text:\n",
    "    used_word = float(0.0)\n",
    "    vector = vector * 0\n",
    "    for word in split_doc:\n",
    "        \n",
    "        if word in useless: continue\n",
    "\n",
    "        used_word += 1.0\n",
    "        try:\n",
    "            vector += model.wv[word]\n",
    "        except Exception as e:\n",
    "            # print(e.__traceback__.tb_frame.f_globals[\"__file__\"])  # 发生异常所在的文件\n",
    "            # print(e.__traceback__.tb_lineno)  # 发生异常所在的行数\n",
    "            used_word -= 1.0\n",
    "\n",
    "    vector /= used_word /200\n",
    "    doc_v_list = np.append(doc_v_list, vector)\n",
    "\n",
    "train_test = doc_v_list.reshape(len(common_text), vector_size)\n",
    "\n",
    "# 使用word2vec \n",
    "clf = RidgeClassifier()\n",
    "clf.fit(train_test[:train_data_size], train_df['label'].values[:train_data_size])\n",
    "\n",
    "val_pred = clf.predict(train_test[train_data_size:])\n",
    "print(f1_score(train_df['label'].values[train_data_size:], val_pred, average='macro'))"
   ]
  },
  {
   "cell_type": "code",
   "execution_count": null,
   "id": "ba5680e0",
   "metadata": {},
   "outputs": [],
   "source": []
  },
  {
   "cell_type": "code",
   "execution_count": null,
   "id": "db8f1880",
   "metadata": {},
   "outputs": [],
   "source": []
  }
 ],
 "metadata": {
  "kernelspec": {
   "display_name": "Python 3 (ipykernel)",
   "language": "python",
   "name": "python3"
  },
  "language_info": {
   "codemirror_mode": {
    "name": "ipython",
    "version": 3
   },
   "file_extension": ".py",
   "mimetype": "text/x-python",
   "name": "python",
   "nbconvert_exporter": "python",
   "pygments_lexer": "ipython3",
   "version": "3.8.12"
  }
 },
 "nbformat": 4,
 "nbformat_minor": 5
}
