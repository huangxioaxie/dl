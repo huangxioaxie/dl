{
 "cells": [
  {
   "cell_type": "markdown",
   "id": "989c0901",
   "metadata": {},
   "source": [
    "# 1. 加载依赖包\n"
   ]
  },
  {
   "cell_type": "code",
   "execution_count": 25,
   "id": "5c59b671",
   "metadata": {},
   "outputs": [],
   "source": [
    "import thulac\n",
    "import os\n",
    "import re\n",
    "import pandas as pd\n",
    "from gensim.models import Word2Vec"
   ]
  },
  {
   "cell_type": "markdown",
   "id": "60fb14cd",
   "metadata": {},
   "source": [
    "# 2. 读取停词表\n"
   ]
  },
  {
   "cell_type": "code",
   "execution_count": 26,
   "id": "544d5a74",
   "metadata": {},
   "outputs": [
    {
     "name": "stdout",
     "output_type": "stream",
     "text": [
      "3908\n",
      "['的', '。', '是', ' ', '\\n', '日', '月', '.', '%', '\\u3000', '--', '?', '“', '”', '》', '－－', 'able', 'about', 'above', 'according', 'accordingly', 'across', 'actually', 'after', 'afterwards', 'again', 'against', \"ain't\", 'all', 'allow', 'allows', 'almost', 'alone', 'along', 'already', 'also', 'although', 'always', 'am', 'among', 'amongst', 'an', 'and', 'another', 'any', 'anybody', 'anyhow', 'anyone', 'anything', 'anyway', 'anyways', 'anywhere', 'apart', 'appear', 'appreciate', 'appropriate', 'are', \"aren't\", 'around', 'as', \"a's\", 'aside', 'ask', 'asking', 'associated', 'at', 'available', 'away', 'awfully', 'be', 'became', 'because', 'become', 'becomes', 'becoming', 'been', 'before', 'beforehand', 'behind', 'being', 'believe', 'below', 'beside', 'besides', 'best', 'better', 'between', 'beyond', 'both', 'brief', 'but', 'by', 'came', 'can', 'cannot', 'cant', \"can't\", 'cause', 'causes', 'certain']\n"
     ]
    }
   ],
   "source": [
    "\n",
    "def load_stop_word():\n",
    "    stop_word = ['的', '。', '是', ' ', '\\n', '日', '月', '.', '%','\\u3000']\n",
    "    stop_word_file = 'c:/data/stopwords'\n",
    "    stop_word_dirs = os.listdir(stop_word_file)\n",
    "    for textName in stop_word_dirs:\n",
    "        filename = stop_word_file + '/' + textName\n",
    "        with open(filename, 'r', encoding='utf-8') as file_object:\n",
    "            line = file_object.readline()\n",
    "            while line:\n",
    "                stop_word.append(line[0:-1])\n",
    "                line = file_object.readline()\n",
    "    return stop_word\n",
    "\n",
    "stop_word = load_stop_word()\n",
    "print(len(stop_word))\n",
    "print(stop_word[0:100])"
   ]
  },
  {
   "cell_type": "markdown",
   "id": "363c0ca1",
   "metadata": {},
   "source": [
    "# 2.5 分词前修改thulac源码中的bug\n",
    "\n",
    "对thulac的2个bug进行修改\n",
    "\n"
   ]
  },
  {
   "cell_type": "code",
   "execution_count": 27,
   "id": "9fb64068",
   "metadata": {},
   "outputs": [],
   "source": [
    "from contextlib import contextmanager\n",
    "from io import StringIO\n",
    "import time\n",
    "\n",
    "\n",
    "@contextmanager\n",
    "def add_clock_method_to_time():\n",
    "    py_gt_3_8 = not hasattr(time, \"clock\")\n",
    "    if py_gt_3_8:\n",
    "        setattr(time, \"clock\", time.perf_counter)\n",
    "    try:\n",
    "        yield\n",
    "    finally:\n",
    "        if py_gt_3_8:\n",
    "            delattr(time, \"clock\")"
   ]
  },
  {
   "cell_type": "markdown",
   "id": "43749d2c",
   "metadata": {},
   "source": [
    "# 3. 分词\n",
    "\n",
    "输入一个文本 对文本中的词语 按照 空格 切分 去掉标点等停词\n",
    "填充一个全局的字典， 词语 -> 词性\n"
   ]
  },
  {
   "cell_type": "code",
   "execution_count": 28,
   "id": "e27fd1ae",
   "metadata": {},
   "outputs": [
    {
     "name": "stdout",
     "output_type": "stream",
     "text": [
      "Model loaded succeed\n"
     ]
    },
    {
     "data": {
      "text/plain": [
       "{'控制': 'v', '训练': 'v', '文章': 'n', '数量': 'n'}"
      ]
     },
     "execution_count": 28,
     "metadata": {},
     "output_type": "execute_result"
    }
   ],
   "source": [
    " # 默认模式，分词的同时进行词性标注\n",
    "thu = thulac.thulac(filt=True, seg_only=False)\n",
    "word_type = {}\n",
    "def cut_doc(doc):\n",
    "    with add_clock_method_to_time():\n",
    "        words = thu.cut(doc)\n",
    "    words_in_doc = \"\"\n",
    "    for word, wordType in words:\n",
    "        if word in stop_word: continue\n",
    "        words_in_doc +=  word + \" \"\n",
    "        word_type[word] = wordType\n",
    "        \n",
    "    return words_in_doc\n",
    "\n",
    "words_in_doc = cut_doc(\"用来控制训练的文章数量\")\n",
    "words_in_doc\n",
    "\n",
    "word_type"
   ]
  },
  {
   "cell_type": "markdown",
   "id": "161b39eb",
   "metadata": {},
   "source": [
    "# 4. 读取数据\n",
    "\n",
    "每类新闻中抽取1000个新闻构建 dataframe"
   ]
  },
  {
   "cell_type": "code",
   "execution_count": null,
   "id": "c7401d8f",
   "metadata": {},
   "outputs": [
    {
     "name": "stdout",
     "output_type": "stream",
     "text": [
      "['体育', '娱乐', '家居', '彩票', '房产', '教育', '时尚', '时政', '星座', '游戏', '社会', '科技', '股票', '财经']\n"
     ]
    }
   ],
   "source": [
    "my_df = pd.DataFrame([],index=[],columns=['text','label'])\n",
    "\n",
    "label_num = {}\n",
    "\n",
    "# 返回 list[str]\n",
    "def read_content():\n",
    "    # doc_data 记录 文章数据\n",
    "    \n",
    "    # my_df = pd.DataFrame([],index=[],columns=['text','label'])\n",
    "    \n",
    "    DOC_COUNT_MAX = 100\n",
    "    \n",
    "    \n",
    "    news_file = 'c:/data/THUCNews'\n",
    "    news_file_dirs = os.listdir(news_file)\n",
    "    print(news_file_dirs)\n",
    "    \n",
    "    label_index = -1\n",
    "    for label in news_file_dirs:\n",
    "        label_index += 1\n",
    "        label_num[label] = label_index\n",
    "        \n",
    "        file = news_file + '/' + label\n",
    "        doc_ids = os.listdir(file)\n",
    "        doc_num = 0\n",
    "        for doc_name in doc_ids:\n",
    "            doc_num += 1\n",
    "            if doc_num >= DOC_COUNT_MAX:\n",
    "                break\n",
    "            doc_file_name = file + '/' + doc_name\n",
    "            doc_id = doc_name[0:-4]\n",
    "            \n",
    "            doc_content = \"\"\n",
    "            \n",
    "            with open(doc_file_name, 'r', encoding='utf-8') as file_object:\n",
    "                line = file_object.readline()\n",
    "                while line:\n",
    "                    doc_content += line\n",
    "                    line = file_object.readline()\n",
    "                    \n",
    "            # print(doc_name[0:-4], len(doc_content),label)\n",
    "            my_df.loc[doc_id] = [cut_doc(doc_content), int(label_index)]\n",
    "            \n",
    "           \n",
    "    return my_df\n",
    "\n",
    "my_df = read_content()\n",
    "\n",
    "train_df = my_df\n",
    "train_df.head()"
   ]
  },
  {
   "cell_type": "code",
   "execution_count": null,
   "id": "61c75d6f",
   "metadata": {},
   "outputs": [],
   "source": [
    "%matplotlib  inline\n",
    "train_df = my_df\n",
    "train_df['text_len'] = train_df['text'].apply(lambda x: len(x.split(' ')))\n",
    "print(train_df['text_len'].describe())"
   ]
  },
  {
   "cell_type": "code",
   "execution_count": null,
   "id": "4be2d885",
   "metadata": {},
   "outputs": [],
   "source": [
    "import matplotlib.pyplot as plt\n",
    "import numpy as np\n",
    "_ = plt.hist(train_df['text_len'], bins=200)\n",
    "plt.xlabel('Text char count')\n",
    "plt.title(\"Histogram of char count\")"
   ]
  },
  {
   "cell_type": "code",
   "execution_count": null,
   "id": "86a3ec25",
   "metadata": {},
   "outputs": [],
   "source": [
    "from collections import Counter\n",
    "all_lines = ' '.join(list(train_df['text']))\n",
    "word_count = Counter(all_lines.split(' '))\n",
    "word_count = sorted(word_count.items(), key=lambda d:d[1], reverse = True)\n",
    "\n",
    "print(len(word_count))\n",
    "\n",
    "print(word_count[0])\n",
    "print(word_count[1])\n",
    "print(word_count[2])\n",
    "\n",
    "print(word_count[-1])"
   ]
  },
  {
   "cell_type": "code",
   "execution_count": null,
   "id": "3396be15",
   "metadata": {},
   "outputs": [],
   "source": [
    "# Count Vectors + RidgeClassifier\n",
    "print(train_df['label'])\n",
    "train_df['label'] = train_df['label'].astype('int')\n",
    "import pandas as pd\n",
    "\n",
    "from sklearn.feature_extraction.text import CountVectorizer\n",
    "from sklearn.linear_model import RidgeClassifier\n",
    "from sklearn.metrics import f1_score\n",
    "\n",
    "all_data_size = 120\n",
    "train_data_size = 100\n",
    "test_data_size = all_data_size - train_data_size\n",
    "\n",
    "print(train_df['text'][:train_data_size])\n",
    "\n",
    "vectorizer = CountVectorizer(max_features=3000)\n",
    "train_test = vectorizer.fit_transform(train_df['text'])\n",
    "\n",
    "\n",
    "clf = RidgeClassifier()\n",
    "clf.fit(train_test[:train_data_size], train_df['label'].values[:train_data_size])\n",
    "val_pred = clf.predict(train_test[train_data_size:])\n",
    "\n",
    "print(f1_score(train_df['label'].values[train_data_size:], val_pred, average='macro'))\n",
    "# 0.28\n",
    "\n",
    "# svm\n",
    "from sklearn.svm import SVC\n",
    "clf = SVC(kernel='linear', C=30, gamma=0.5, decision_function_shape='ovo')\n",
    "clf.fit(train_test[:train_data_size], train_df['label'].values[:train_data_size])\n",
    "val_pred = clf.predict(train_test[train_data_size:])\n",
    "\n",
    "print(f1_score(train_df['label'].values[train_data_size:], val_pred, average='macro'))\n",
    "\n",
    "\n",
    "from sklearn import neighbors\n",
    "clf = neighbors.KNeighborsClassifier(n_neighbors = 13 , weights='distance')\n",
    "clf.fit(train_test[:train_data_size], train_df['label'].values[:train_data_size])\n",
    "val_pred = clf.predict(train_test[train_data_size:])\n",
    "\n",
    "print(f1_score(train_df['label'].values[train_data_size:], val_pred, average='macro'))"
   ]
  },
  {
   "cell_type": "code",
   "execution_count": null,
   "id": "8708ba76",
   "metadata": {},
   "outputs": [],
   "source": [
    "# TF-IDF +  RidgeClassifier\n",
    "\n",
    "import pandas as pd\n",
    "\n",
    "from sklearn.feature_extraction.text import TfidfVectorizer\n",
    "from sklearn.linear_model import RidgeClassifier\n",
    "from sklearn.linear_model import LinearRegression\n",
    "from sklearn.metrics import f1_score\n",
    "\n",
    "\n",
    "tfidf = TfidfVectorizer(ngram_range=(1,4), max_features=3000)\n",
    "\n",
    "train_test = tfidf.fit_transform(train_df['text'])\n",
    "\n",
    "clf = RidgeClassifier()\n",
    "clf.fit(train_test[:train_data_size], train_df['label'].values[:train_data_size])\n",
    "\n",
    "val_pred = clf.predict(train_test[train_data_size:])\n",
    "\n",
    "print(f1_score(train_df['label'].values[train_data_size:], val_pred, average='macro'))"
   ]
  },
  {
   "cell_type": "code",
   "execution_count": null,
   "id": "06918e77",
   "metadata": {},
   "outputs": [],
   "source": []
  },
  {
   "cell_type": "code",
   "execution_count": null,
   "id": "34168ac0",
   "metadata": {},
   "outputs": [],
   "source": []
  }
 ],
 "metadata": {
  "kernelspec": {
   "display_name": "Python 3 (ipykernel)",
   "language": "python",
   "name": "python3"
  },
  "language_info": {
   "codemirror_mode": {
    "name": "ipython",
    "version": 3
   },
   "file_extension": ".py",
   "mimetype": "text/x-python",
   "name": "python",
   "nbconvert_exporter": "python",
   "pygments_lexer": "ipython3",
   "version": "3.8.12"
  }
 },
 "nbformat": 4,
 "nbformat_minor": 5
}
