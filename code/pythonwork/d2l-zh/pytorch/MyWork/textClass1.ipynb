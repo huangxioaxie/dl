{
 "cells": [
  {
   "cell_type": "code",
   "execution_count": 1,
   "id": "df75dd58",
   "metadata": {},
   "outputs": [
    {
     "name": "stdout",
     "output_type": "stream",
     "text": [
      "0      2\n",
      "1     11\n",
      "2      3\n",
      "3      2\n",
      "4      3\n",
      "      ..\n",
      "95     7\n",
      "96     1\n",
      "97     2\n",
      "98     2\n",
      "99     4\n",
      "Name: label, Length: 100, dtype: int64\n"
     ]
    }
   ],
   "source": [
    "import pandas as pd\n",
    "train_df = pd.read_csv('./data/train_set.csv', sep='\\t', nrows=100)\n",
    "print(train_df['label'])"
   ]
  },
  {
   "cell_type": "code",
   "execution_count": 2,
   "id": "a0b014b3",
   "metadata": {},
   "outputs": [
    {
     "data": {
      "text/html": [
       "<div>\n",
       "<style scoped>\n",
       "    .dataframe tbody tr th:only-of-type {\n",
       "        vertical-align: middle;\n",
       "    }\n",
       "\n",
       "    .dataframe tbody tr th {\n",
       "        vertical-align: top;\n",
       "    }\n",
       "\n",
       "    .dataframe thead th {\n",
       "        text-align: right;\n",
       "    }\n",
       "</style>\n",
       "<table border=\"1\" class=\"dataframe\">\n",
       "  <thead>\n",
       "    <tr style=\"text-align: right;\">\n",
       "      <th></th>\n",
       "      <th>label</th>\n",
       "      <th>text</th>\n",
       "    </tr>\n",
       "  </thead>\n",
       "  <tbody>\n",
       "    <tr>\n",
       "      <th>0</th>\n",
       "      <td>2</td>\n",
       "      <td>2967 6758 339 2021 1854 3731 4109 3792 4149 15...</td>\n",
       "    </tr>\n",
       "    <tr>\n",
       "      <th>1</th>\n",
       "      <td>11</td>\n",
       "      <td>4464 486 6352 5619 2465 4802 1452 3137 5778 54...</td>\n",
       "    </tr>\n",
       "    <tr>\n",
       "      <th>2</th>\n",
       "      <td>3</td>\n",
       "      <td>7346 4068 5074 3747 5681 6093 1777 2226 7354 6...</td>\n",
       "    </tr>\n",
       "    <tr>\n",
       "      <th>3</th>\n",
       "      <td>2</td>\n",
       "      <td>7159 948 4866 2109 5520 2490 211 3956 5520 549...</td>\n",
       "    </tr>\n",
       "    <tr>\n",
       "      <th>4</th>\n",
       "      <td>3</td>\n",
       "      <td>3646 3055 3055 2490 4659 6065 3370 5814 2465 5...</td>\n",
       "    </tr>\n",
       "  </tbody>\n",
       "</table>\n",
       "</div>"
      ],
      "text/plain": [
       "   label                                               text\n",
       "0      2  2967 6758 339 2021 1854 3731 4109 3792 4149 15...\n",
       "1     11  4464 486 6352 5619 2465 4802 1452 3137 5778 54...\n",
       "2      3  7346 4068 5074 3747 5681 6093 1777 2226 7354 6...\n",
       "3      2  7159 948 4866 2109 5520 2490 211 3956 5520 549...\n",
       "4      3  3646 3055 3055 2490 4659 6065 3370 5814 2465 5..."
      ]
     },
     "execution_count": 2,
     "metadata": {},
     "output_type": "execute_result"
    }
   ],
   "source": [
    "train_df.head()"
   ]
  },
  {
   "cell_type": "markdown",
   "id": "6cefac14",
   "metadata": {},
   "source": [
    "\n",
    "# 句子长度分析\n",
    "\n",
    "在赛题数据中每行句子的字符使用空格进行隔开，所以可以直接统计单词的个数来得到每个句子的长度。统计并如下"
   ]
  },
  {
   "cell_type": "code",
   "execution_count": 4,
   "id": "bf8d7dab",
   "metadata": {},
   "outputs": [
    {
     "name": "stdout",
     "output_type": "stream",
     "text": [
      "count     100.000000\n",
      "mean      872.320000\n",
      "std       923.138191\n",
      "min        64.000000\n",
      "25%       359.500000\n",
      "50%       598.000000\n",
      "75%      1058.000000\n",
      "max      7125.000000\n",
      "Name: text_len, dtype: float64\n"
     ]
    }
   ],
   "source": [
    "%matplotlib  inline\n",
    "train_df['text_len'] = train_df['text'].apply(lambda x: len(x.split(' ')))\n",
    "print(train_df['text_len'].describe())"
   ]
  },
  {
   "cell_type": "code",
   "execution_count": 7,
   "id": "76f7b8b1",
   "metadata": {},
   "outputs": [
    {
     "data": {
      "text/plain": [
       "Text(0.5, 1.0, 'Histogram of char count')"
      ]
     },
     "execution_count": 7,
     "metadata": {},
     "output_type": "execute_result"
    },
    {
     "data": {
      "image/png": "[encoded data removed]",
      "text/plain": [
       "<Figure size 432x288 with 1 Axes>"
      ]
     },
     "metadata": {
      "needs_background": "light"
     },
     "output_type": "display_data"
    }
   ],
   "source": [
    "_ = plt.hist(train_df['text_len'], bins=200)\n",
    "plt.xlabel('Text char count')\n",
    "plt.title(\"Histogram of char count\")"
   ]
  },
  {
   "cell_type": "code",
   "execution_count": 16,
   "id": "1515d451",
   "metadata": {},
   "outputs": [
    {
     "data": {
      "text/plain": [
       "Text(0.5, 1.0, 'Histogram of char count')"
      ]
     },
     "execution_count": 16,
     "metadata": {},
     "output_type": "execute_result"
    },
    {
     "data": {
      "image/png": "[encoded data removed]",
      "text/plain": [
       "<Figure size 432x288 with 1 Axes>"
      ]
     },
     "metadata": {
      "needs_background": "light"
     },
     "output_type": "display_data"
    }
   ],
   "source": [
    "_ = plt.hist(train_df['text_len'], bins=200)\n",
    "plt.xlabel('Text char count')\n",
    "plt.title(\"Histogram of char count\")"
   ]
  },
  {
   "cell_type": "code",
   "execution_count": 17,
   "id": "a7c17873",
   "metadata": {},
   "outputs": [
    {
     "data": {
      "text/plain": [
       "Text(0, 0.5, 'count')"
      ]
     },
     "execution_count": 17,
     "metadata": {},
     "output_type": "execute_result"
    },
    {
     "data": {
      "image/png": "[encoded data removed]",
      "text/plain": [
       "<Figure size 432x288 with 1 Axes>"
      ]
     },
     "metadata": {
      "needs_background": "light"
     },
     "output_type": "display_data"
    }
   ],
   "source": [
    "train_df['label'].value_counts().plot(kind='bar')\n",
    "plt.title('News class count')\n",
    "plt.xlabel(\"category\")\n",
    "plt.ylabel(\"count\")"
   ]
  },
  {
   "cell_type": "code",
   "execution_count": 21,
   "id": "ce8850d6",
   "metadata": {},
   "outputs": [
    {
     "name": "stdout",
     "output_type": "stream",
     "text": [
      "2405\n",
      "('3750', 3702)\n",
      "('648', 2423)\n",
      "('900', 1602)\n",
      "('5034', 1)\n"
     ]
    }
   ],
   "source": [
    "from collections import Counter\n",
    "all_lines = ' '.join(list(train_df['text']))\n",
    "word_count = Counter(all_lines.split(' '))\n",
    "word_count = sorted(word_count.items(), key=lambda d:d[1], reverse = True)\n",
    "\n",
    "print(len(word_count))\n",
    "\n",
    "print(word_count[0])\n",
    "print(word_count[1])\n",
    "print(word_count[2])\n",
    "\n",
    "print(word_count[-1])"
   ]
  },
  {
   "cell_type": "code",
   "execution_count": 22,
   "id": "f730d58d",
   "metadata": {},
   "outputs": [
    {
     "name": "stdout",
     "output_type": "stream",
     "text": [
      "('3750', 64)\n",
      "('3750', 25)\n",
      "('3750', 27)\n",
      "('3750', 86)\n",
      "('3055', 12)\n",
      "('3317', 27)\n",
      "('2465', 11)\n",
      "('3750', 43)\n",
      "('6220', 59)\n",
      "('3750', 46)\n",
      "('3750', 34)\n",
      "('3370', 30)\n",
      "('465', 15)\n",
      "('1641', 12)\n",
      "('1633', 32)\n",
      "('3750', 27)\n",
      "('3750', 10)\n",
      "('3750', 55)\n",
      "('2367', 24)\n",
      "('648', 19)\n",
      "('648', 64)\n",
      "('648', 31)\n",
      "('3370', 32)\n",
      "('3750', 30)\n",
      "('4464', 19)\n",
      "('3750', 18)\n",
      "('3750', 16)\n",
      "('4411', 17)\n",
      "('3750', 41)\n",
      "('3750', 31)\n",
      "('4464', 49)\n",
      "('3154', 38)\n",
      "('3750', 43)\n",
      "('3750', 17)\n",
      "('3750', 28)\n",
      "('4464', 65)\n",
      "('3750', 166)\n",
      "('2210', 45)\n",
      "('3750', 32)\n",
      "('2109', 3)\n",
      "('3750', 168)\n",
      "('3750', 86)\n",
      "('2119', 23)\n",
      "('3750', 30)\n",
      "('3750', 21)\n",
      "('3750', 48)\n",
      "('3750', 48)\n",
      "('3750', 37)\n",
      "('3750', 29)\n",
      "('3750', 70)\n",
      "('3750', 12)\n",
      "('3700', 6)\n",
      "('3659', 10)\n",
      "('3750', 21)\n",
      "('3750', 5)\n",
      "('3750', 58)\n",
      "('3750', 78)\n",
      "('3750', 18)\n",
      "('3750', 25)\n",
      "('648', 26)\n",
      "('3750', 21)\n",
      "('648', 28)\n",
      "('5678', 13)\n",
      "('3750', 14)\n",
      "('3809', 24)\n",
      "('3750', 91)\n",
      "('3750', 21)\n",
      "('3750', 42)\n",
      "('3750', 29)\n",
      "('3750', 105)\n",
      "('3750', 20)\n",
      "('3750', 340)\n",
      "('3351', 29)\n",
      "('3750', 29)\n",
      "('151', 6)\n",
      "('3750', 65)\n",
      "('2465', 71)\n",
      "('3750', 12)\n",
      "('3750', 43)\n",
      "('3750', 23)\n",
      "('3750', 55)\n",
      "('3750', 51)\n",
      "('3750', 27)\n",
      "('3750', 46)\n",
      "('3370', 12)\n",
      "('3750', 73)\n",
      "('4180', 13)\n",
      "('1633', 16)\n",
      "('3691', 6)\n",
      "('3750', 24)\n",
      "('2555', 29)\n",
      "('3750', 24)\n",
      "('648', 6)\n",
      "('5036', 5)\n",
      "('3750', 117)\n",
      "('3750', 55)\n",
      "('3370', 7)\n",
      "('3750', 99)\n",
      "('3750', 70)\n",
      "('3750', 12)\n"
     ]
    }
   ],
   "source": [
    "from collections import Counter\n",
    "lines_list = list(train_df['text'])\n",
    "for line in lines_list:\n",
    "    word_count = Counter(line.split(' '))\n",
    "    word_count = sorted(word_count.items(), key=lambda d:d[1], reverse = True)\n",
    "  "
   ]
  },
  {
   "cell_type": "code",
   "execution_count": 1,
   "id": "38599078",
   "metadata": {},
   "outputs": [
    {
     "name": "stdout",
     "output_type": "stream",
     "text": [
      "0.7421821524540311\n"
     ]
    }
   ],
   "source": [
    "# Count Vectors + RidgeClassifier\n",
    "\n",
    "import pandas as pd\n",
    "\n",
    "from sklearn.feature_extraction.text import CountVectorizer\n",
    "from sklearn.linear_model import RidgeClassifier\n",
    "from sklearn.metrics import f1_score\n",
    "\n",
    "train_df = pd.read_csv('./data/train_set.csv', sep='\\t', nrows=15000)\n",
    "\n",
    "vectorizer = CountVectorizer(max_features=3000)\n",
    "train_test = vectorizer.fit_transform(train_df['text'])\n",
    "\n",
    "clf = RidgeClassifier()\n",
    "clf.fit(train_test[:10000], train_df['label'].values[:10000])\n",
    "\n",
    "val_pred = clf.predict(train_test[10000:])\n",
    "print(f1_score(train_df['label'].values[10000:], val_pred, average='macro'))\n",
    "# 0.7421"
   ]
  },
  {
   "cell_type": "code",
   "execution_count": 43,
   "id": "dac29239",
   "metadata": {},
   "outputs": [
    {
     "name": "stdout",
     "output_type": "stream",
     "text": [
      "0.8738210287555335\n"
     ]
    }
   ],
   "source": [
    "# TF-IDF +  RidgeClassifier\n",
    "\n",
    "import pandas as pd\n",
    "\n",
    "from sklearn.feature_extraction.text import TfidfVectorizer\n",
    "from sklearn.linear_model import RidgeClassifier\n",
    "from sklearn.linear_model import LinearRegression\n",
    "from sklearn.metrics import f1_score\n",
    "\n",
    "train_df = pd.read_csv('./data/train_set.csv', sep='\\t', nrows=15000)\n",
    "\n",
    "tfidf = TfidfVectorizer(ngram_range=(1,4), max_features=3000)\n",
    "\n",
    "train_test = tfidf.fit_transform(train_df['text'])\n",
    "\n",
    "clf = RidgeClassifier()\n",
    "clf.fit(train_test[:10000], train_df['label'].values[:10000])\n",
    "\n",
    "val_pred = clf.predict(train_test[10000:])\n",
    "print(f1_score(train_df['label'].values[10000:], val_pred, average='macro'))\n",
    "# 0.87"
   ]
  },
  {
   "cell_type": "code",
   "execution_count": 6,
   "id": "38252293",
   "metadata": {},
   "outputs": [
    {
     "name": "stdout",
     "output_type": "stream",
     "text": [
      "{'orange': 3, 'banana': 1, 'apple': 0, 'grape': 2}\n",
      "  (0, 2)\t0.5230350301866413\n",
      "  (0, 0)\t0.423441934145613\n",
      "  (0, 1)\t0.5230350301866413\n",
      "  (0, 3)\t0.5230350301866413\n",
      "  (1, 0)\t0.8508160982744233\n",
      "  (1, 1)\t0.5254635733493682\n",
      "  (2, 2)\t1.0\n",
      "  (3, 0)\t0.6292275146695526\n",
      "  (3, 3)\t0.7772211620785797\n",
      "[[0.42344193 0.52303503 0.52303503 0.52303503]\n",
      " [0.8508161  0.52546357 0.         0.        ]\n",
      " [0.         0.         1.         0.        ]\n",
      " [0.62922751 0.         0.         0.77722116]]\n"
     ]
    }
   ],
   "source": [
    "from sklearn.feature_extraction.text import CountVectorizer,TfidfVectorizer\n",
    "\n",
    "texts=[\"orange banana apple grape\",\"banana apple apple\",\"grape\", 'orange apple']\n",
    "cv = TfidfVectorizer()\n",
    "# cv_fit 是一种稀疏矩阵\n",
    "cv_fit=cv.fit_transform(texts)\n",
    "print(cv.vocabulary_)\n",
    "print(cv_fit)\n",
    "print(cv_fit.toarray())\n"
   ]
  },
  {
   "cell_type": "code",
   "execution_count": 41,
   "id": "b10e90e3",
   "metadata": {},
   "outputs": [],
   "source": [
    "\n",
    "# 0.87"
   ]
  },
  {
   "cell_type": "code",
   "execution_count": 39,
   "id": "b47ff9ed",
   "metadata": {},
   "outputs": [
    {
     "name": "stdout",
     "output_type": "stream",
     "text": [
      "[11  0  4  5 10  1  0  8 11  3  3  3  2  3  0  1  1  9  1  2  0  7  8  1\n",
      "  3  3  7  2  1  1  5  1  0  0  1  4  0  1  2  0]\n",
      "[ 4  2  4  5 10  2  0  2  4  3  3  3  4  2  9  0  1  1  1  5  9  7  1  0\n",
      "  3  3  4  4  1  3  4  1  1  1  1  1  0  2  2  0]\n",
      "0.39852369852369857\n",
      "[ 3  1  4  5 10  0 12 12  3  3  4  3  4  3  0  1  1  3  1  2 10  7  3  1\n",
      "  3  3  7  2  1  1  5  1  0  1  1  4  0  1  2  0]\n",
      "0.5274725274725275\n",
      "[ 3  1  1  2  1  1  0  0  3  3  4  3  1  0  0  1  1  1  1  2 10  1  3  1\n",
      "  3  3  1  2  1  1  2  1  1  1  1  1  1  1  2  2]\n",
      "0.19944356718550268\n"
     ]
    }
   ],
   "source": [
    "# Count Vectors + RidgeClassifier\n",
    "\n",
    "import pandas as pd\n",
    "\n",
    "from sklearn.feature_extraction.text import CountVectorizer\n",
    "from sklearn.linear_model import RidgeClassifier\n",
    "from sklearn.metrics import f1_score\n",
    "\n",
    "all_data_size = 200\n",
    "train_data_size = 160\n",
    "test_data_size = all_data_size - train_data_size\n",
    "\n",
    "train_df = pd.read_csv('./data/train_set.csv', sep='\\t', nrows=all_data_size)\n",
    "\n",
    "vectorizer = CountVectorizer(max_features=300)\n",
    "train_test = vectorizer.fit_transform(train_df['text'])\n",
    "\n",
    "print(train_df['label'].values[train_data_size:])\n",
    "\n",
    "clf = RidgeClassifier()\n",
    "clf.fit(train_test[:train_data_size], train_df['label'].values[:train_data_size])\n",
    "\n",
    "val_pred = clf.predict(train_test[train_data_size:])\n",
    "print(val_pred)\n",
    "print(f1_score(train_df['label'].values[train_data_size:], val_pred, average='macro'))\n",
    "# 0.28\n",
    "\n",
    "# svm\n",
    "from sklearn.svm import SVC\n",
    "clf = SVC(kernel='linear', C=30, gamma=0.5, decision_function_shape='ovo')\n",
    "clf.fit(train_test[:train_data_size], train_df['label'].values[:train_data_size])\n",
    "val_pred = clf.predict(train_test[train_data_size:])\n",
    "print(val_pred)\n",
    "print(f1_score(train_df['label'].values[train_data_size:], val_pred, average='macro'))\n",
    "\n",
    "\n",
    "from sklearn import neighbors\n",
    "clf = neighbors.KNeighborsClassifier(n_neighbors = 13 , weights='distance')\n",
    "clf.fit(train_test[:train_data_size], train_df['label'].values[:train_data_size])\n",
    "val_pred = clf.predict(train_test[train_data_size:])\n",
    "print(val_pred)\n",
    "print(f1_score(train_df['label'].values[train_data_size:], val_pred, average='macro'))\n"
   ]
  },
  {
   "cell_type": "code",
   "execution_count": 44,
   "id": "9993834d",
   "metadata": {},
   "outputs": [
    {
     "name": "stdout",
     "output_type": "stream",
     "text": [
      "0.7421821524540311\n",
      "0.8321180641074305\n",
      "0.6520716080703268\n"
     ]
    }
   ],
   "source": [
    "# Count Vectors + RidgeClassifier\n",
    "\n",
    "import pandas as pd\n",
    "\n",
    "from sklearn.feature_extraction.text import CountVectorizer\n",
    "from sklearn.linear_model import RidgeClassifier\n",
    "from sklearn.metrics import f1_score\n",
    "\n",
    "all_data_size = 15\n",
    "train_data_size = 10\n",
    "test_data_size = all_data_size - train_data_size\n",
    "\n",
    "train_df = pd.read_csv('./data/train_set.csv', sep='\\t', nrows=all_data_size)\n",
    "\n",
    "vectorizer = CountVectorizer(max_features=3000)\n",
    "train_test = vectorizer.fit_transform(train_df['text'])\n",
    "\n",
    "\n",
    "clf = RidgeClassifier()\n",
    "clf.fit(train_test[:train_data_size], train_df['label'].values[:train_data_size])\n",
    "val_pred = clf.predict(train_test[train_data_size:])\n",
    "\n",
    "print(f1_score(train_df['label'].values[train_data_size:], val_pred, average='macro'))\n",
    "# 0.28\n",
    "\n",
    "# svm\n",
    "from sklearn.svm import SVC\n",
    "clf = SVC(kernel='linear', C=30, gamma=0.5, decision_function_shape='ovo')\n",
    "clf.fit(train_test[:train_data_size], train_df['label'].values[:train_data_size])\n",
    "val_pred = clf.predict(train_test[train_data_size:])\n",
    "\n",
    "print(f1_score(train_df['label'].values[train_data_size:], val_pred, average='macro'))\n",
    "\n",
    "\n",
    "from sklearn import neighbors\n",
    "clf = neighbors.KNeighborsClassifier(n_neighbors = 13 , weights='distance')\n",
    "clf.fit(train_test[:train_data_size], train_df['label'].values[:train_data_size])\n",
    "val_pred = clf.predict(train_test[train_data_size:])\n",
    "\n",
    "print(f1_score(train_df['label'].values[train_data_size:], val_pred, average='macro'))\n"
   ]
  },
  {
   "cell_type": "code",
   "execution_count": 1,
   "id": "441ab6b5",
   "metadata": {},
   "outputs": [
    {
     "data": {
      "text/plain": [
       "array([0.5, 1. , 1.5, 2. , 2.5])"
      ]
     },
     "execution_count": 1,
     "metadata": {},
     "output_type": "execute_result"
    }
   ],
   "source": [
    "import numpy as np\n",
    "a = np.array([1, 2, 3, 4, 5])\n",
    "a = a/2\n",
    "a"
   ]
  },
  {
   "cell_type": "code",
   "execution_count": 3,
   "id": "170a320d",
   "metadata": {},
   "outputs": [
    {
     "name": "stdout",
     "output_type": "stream",
     "text": [
      "2405\n",
      "3750\n",
      "('5034', 1)\n"
     ]
    }
   ],
   "source": [
    "import pandas as pd\n",
    "train_df = pd.read_csv('./data/train_set.csv', sep='\\t', nrows=100)\n",
    "from collections import Counter\n",
    "all_lines = ' '.join(list(train_df['text']))\n",
    "word_count = Counter(all_lines.split(\" \"))\n",
    "word_count = sorted(word_count.items(), key=lambda d:d[1], reverse = True)\n",
    "\n",
    "print(len(word_count))\n",
    "\n",
    "print(word_count[0][0])\n",
    "\n",
    "print(word_count[-1])"
   ]
  },
  {
   "cell_type": "code",
   "execution_count": null,
   "id": "41a032de",
   "metadata": {},
   "outputs": [],
   "source": []
  }
 ],
 "metadata": {
  "kernelspec": {
   "display_name": "Python 3 (ipykernel)",
   "language": "python",
   "name": "python3"
  },
  "language_info": {
   "codemirror_mode": {
    "name": "ipython",
    "version": 3
   },
   "file_extension": ".py",
   "mimetype": "text/x-python",
   "name": "python",
   "nbconvert_exporter": "python",
   "pygments_lexer": "ipython3",
   "version": "3.8.12"
  }
 },
 "nbformat": 4,
 "nbformat_minor": 5
}
