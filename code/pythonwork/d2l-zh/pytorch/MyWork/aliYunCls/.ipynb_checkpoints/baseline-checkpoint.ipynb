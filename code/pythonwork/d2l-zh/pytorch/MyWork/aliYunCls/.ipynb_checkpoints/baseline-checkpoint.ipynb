{
 "cells": [
  {
   "cell_type": "code",
   "execution_count": 22,
   "id": "6405cddc",
   "metadata": {},
   "outputs": [
    {
     "name": "stdout",
     "output_type": "stream",
     "text": [
      "0.8748364500663969\n"
     ]
    }
   ],
   "source": [
    "# TF-IDF +  RidgeClassifier\n",
    "\n",
    "import pandas as pd\n",
    "\n",
    "from sklearn.feature_extraction.text import TfidfVectorizer\n",
    "from sklearn.linear_model import RidgeClassifier\n",
    "from sklearn.metrics import f1_score\n",
    "\n",
    "train_df = pd.read_csv('../data/train_set.csv', sep='\\t', nrows=15000)\n",
    "test_df = pd.read_csv('../data/test_a.csv', sep='\\t')\n",
    "\n",
    "test_df_a = pd.concat([train_df,test_df],axis=0,join='outer')\n",
    "\n",
    "tfidf = TfidfVectorizer(ngram_range=(1,3), max_features=3000)\n",
    "\n",
    "train_test_a = tfidf.fit_transform(test_df_a['text'])\n",
    "\n",
    "\n",
    "\n",
    "clf = RidgeClassifier()\n",
    "clf.fit(train_test_a[:10000], test_df_a['label'].values[:10000])\n",
    "\n",
    "val_pred = clf.predict(train_test_a[10000:15000])\n",
    "print(f1_score(test_df_a['label'].values[10000:15000], val_pred, average='macro'))\n",
    "\n",
    "val_pred_a = clf.predict(train_test_a[15000:])\n",
    "pd_data = pd.DataFrame(val_pred_a,columns=['label'])\n",
    "pd_data.to_csv(\"c:/data/news/test_a_3.csv\", index=False)\n",
    "\n",
    "# 0.87483\n",
    "# 阿里云： 0.8775"
   ]
  },
  {
   "cell_type": "code",
   "execution_count": 15,
   "id": "ffbe3867",
   "metadata": {},
   "outputs": [
    {
     "data": {
      "text/plain": [
       "(<15000x3000 sparse matrix of type '<class 'numpy.float64'>'\n",
       " \twith 6124990 stored elements in Compressed Sparse Row format>,\n",
       "        label                                               text\n",
       " 0        2.0  2967 6758 339 2021 1854 3731 4109 3792 4149 15...\n",
       " 1       11.0  4464 486 6352 5619 2465 4802 1452 3137 5778 54...\n",
       " 2        3.0  7346 4068 5074 3747 5681 6093 1777 2226 7354 6...\n",
       " 3        2.0  7159 948 4866 2109 5520 2490 211 3956 5520 549...\n",
       " 4        3.0  3646 3055 3055 2490 4659 6065 3370 5814 2465 5...\n",
       " ...      ...                                                ...\n",
       " 49995    NaN  3725 4498 2282 1647 6293 4245 4498 3615 1141 2...\n",
       " 49996    NaN  4811 465 3800 1394 3038 2376 2327 5165 3070 57...\n",
       " 49997    NaN  5338 1952 3117 4109 299 6656 6654 3792 6831 21...\n",
       " 49998    NaN  893 3469 5775 584 2490 4223 6569 6663 2124 168...\n",
       " 49999    NaN  2400 4409 4412 2210 5122 4464 7186 2465 1327 9...\n",
       " \n",
       " [65000 rows x 2 columns])"
      ]
     },
     "execution_count": 15,
     "metadata": {},
     "output_type": "execute_result"
    }
   ],
   "source": [
    "train_test,test_df_a"
   ]
  },
  {
   "cell_type": "code",
   "execution_count": 6,
   "id": "c7122cd9",
   "metadata": {},
   "outputs": [],
   "source": [
    "pd_data = pd.DataFrame(val_pred_a,columns=['label'])"
   ]
  },
  {
   "cell_type": "code",
   "execution_count": 19,
   "id": "68322a76",
   "metadata": {},
   "outputs": [
    {
     "data": {
      "text/html": [
       "<div>\n",
       "<style scoped>\n",
       "    .dataframe tbody tr th:only-of-type {\n",
       "        vertical-align: middle;\n",
       "    }\n",
       "\n",
       "    .dataframe tbody tr th {\n",
       "        vertical-align: top;\n",
       "    }\n",
       "\n",
       "    .dataframe thead th {\n",
       "        text-align: right;\n",
       "    }\n",
       "</style>\n",
       "<table border=\"1\" class=\"dataframe\">\n",
       "  <thead>\n",
       "    <tr style=\"text-align: right;\">\n",
       "      <th></th>\n",
       "      <th>label</th>\n",
       "      <th>text</th>\n",
       "    </tr>\n",
       "  </thead>\n",
       "  <tbody>\n",
       "    <tr>\n",
       "      <th>14999</th>\n",
       "      <td>8.0</td>\n",
       "      <td>4188 5778 5296 5640 2835 648 6122 2489 2923 39...</td>\n",
       "    </tr>\n",
       "    <tr>\n",
       "      <th>0</th>\n",
       "      <td>NaN</td>\n",
       "      <td>5399 3117 1070 4321 4568 2621 5466 3772 4516 2...</td>\n",
       "    </tr>\n",
       "    <tr>\n",
       "      <th>1</th>\n",
       "      <td>NaN</td>\n",
       "      <td>2491 4109 1757 7539 648 3695 3038 4490 23 7019...</td>\n",
       "    </tr>\n",
       "    <tr>\n",
       "      <th>2</th>\n",
       "      <td>NaN</td>\n",
       "      <td>2673 5076 6835 2835 5948 5677 3247 4124 2465 5...</td>\n",
       "    </tr>\n",
       "    <tr>\n",
       "      <th>3</th>\n",
       "      <td>NaN</td>\n",
       "      <td>4562 4893 2210 4761 3659 1324 2595 5949 4583 2...</td>\n",
       "    </tr>\n",
       "    <tr>\n",
       "      <th>...</th>\n",
       "      <td>...</td>\n",
       "      <td>...</td>\n",
       "    </tr>\n",
       "    <tr>\n",
       "      <th>49995</th>\n",
       "      <td>NaN</td>\n",
       "      <td>3725 4498 2282 1647 6293 4245 4498 3615 1141 2...</td>\n",
       "    </tr>\n",
       "    <tr>\n",
       "      <th>49996</th>\n",
       "      <td>NaN</td>\n",
       "      <td>4811 465 3800 1394 3038 2376 2327 5165 3070 57...</td>\n",
       "    </tr>\n",
       "    <tr>\n",
       "      <th>49997</th>\n",
       "      <td>NaN</td>\n",
       "      <td>5338 1952 3117 4109 299 6656 6654 3792 6831 21...</td>\n",
       "    </tr>\n",
       "    <tr>\n",
       "      <th>49998</th>\n",
       "      <td>NaN</td>\n",
       "      <td>893 3469 5775 584 2490 4223 6569 6663 2124 168...</td>\n",
       "    </tr>\n",
       "    <tr>\n",
       "      <th>49999</th>\n",
       "      <td>NaN</td>\n",
       "      <td>2400 4409 4412 2210 5122 4464 7186 2465 1327 9...</td>\n",
       "    </tr>\n",
       "  </tbody>\n",
       "</table>\n",
       "<p>50001 rows × 2 columns</p>\n",
       "</div>"
      ],
      "text/plain": [
       "       label                                               text\n",
       "14999    8.0  4188 5778 5296 5640 2835 648 6122 2489 2923 39...\n",
       "0        NaN  5399 3117 1070 4321 4568 2621 5466 3772 4516 2...\n",
       "1        NaN  2491 4109 1757 7539 648 3695 3038 4490 23 7019...\n",
       "2        NaN  2673 5076 6835 2835 5948 5677 3247 4124 2465 5...\n",
       "3        NaN  4562 4893 2210 4761 3659 1324 2595 5949 4583 2...\n",
       "...      ...                                                ...\n",
       "49995    NaN  3725 4498 2282 1647 6293 4245 4498 3615 1141 2...\n",
       "49996    NaN  4811 465 3800 1394 3038 2376 2327 5165 3070 57...\n",
       "49997    NaN  5338 1952 3117 4109 299 6656 6654 3792 6831 21...\n",
       "49998    NaN  893 3469 5775 584 2490 4223 6569 6663 2124 168...\n",
       "49999    NaN  2400 4409 4412 2210 5122 4464 7186 2465 1327 9...\n",
       "\n",
       "[50001 rows x 2 columns]"
      ]
     },
     "execution_count": 19,
     "metadata": {},
     "output_type": "execute_result"
    }
   ],
   "source": [
    "test_df_a[14999:]"
   ]
  },
  {
   "cell_type": "code",
   "execution_count": 12,
   "id": "626e036e",
   "metadata": {},
   "outputs": [
    {
     "name": "stdout",
     "output_type": "stream",
     "text": [
      "0.868765936508602\n"
     ]
    }
   ],
   "source": [
    "# TF-IDF +  RidgeClassifier\n",
    "\n",
    "import pandas as pd\n",
    "\n",
    "from sklearn.feature_extraction.text import TfidfVectorizer\n",
    "from sklearn.linear_model import RidgeClassifier\n",
    "from sklearn.metrics import f1_score\n",
    "\n",
    "train_df = pd.read_csv('../data/train_set.csv', sep='\\t', nrows=15000)\n",
    "train_df = train_df.sample(frac=1)\n",
    "\n",
    "\n",
    "\n",
    "tfidf = TfidfVectorizer(ngram_range=(1,3), max_features=3000)\n",
    "train_test = tfidf.fit_transform(train_df['text'])\n",
    "\n",
    "clf = RidgeClassifier()\n",
    "clf.fit(train_test[:10000], train_df['label'].values[:10000])\n",
    "\n",
    "val_pred = clf.predict(train_test[10000:])\n",
    "print(f1_score(train_df['label'].values[10000:], val_pred, average='macro'))\n",
    "\n"
   ]
  },
  {
   "cell_type": "code",
   "execution_count": 44,
   "id": "0a91df73",
   "metadata": {},
   "outputs": [],
   "source": [
    "import math\n",
    "from scipy.stats import norm, mstats\n",
    "def mk_test(x, alpha=0.05):\n",
    "    \"\"\"\n",
    "    This function is derived from code originally posted by Sat Kumar Tomer\n",
    "    (satkumartomer@gmail.com)\n",
    "    See also: http://vsp.pnnl.gov/help/Vsample/Design_Trend_Mann_Kendall.htm\n",
    "    The purpose of the Mann-Kendall (MK) test (Mann 1945, Kendall 1975, Gilbert\n",
    "    1987) is to statistically assess if there is a monotonic upward or downward\n",
    "    trend of the variable of interest over time. A monotonic upward (downward)\n",
    "    trend means that the variable consistently increases (decreases) through\n",
    "    time, but the trend may or may not be linear. The MK test can be used in\n",
    "    place of a parametric linear regression analysis, which can be used to test\n",
    "    if the slope of the estimated linear regression line is different from\n",
    "    zero. The regression analysis requires that the residuals from the fitted\n",
    "    regression line be normally distributed; an assumption not required by the\n",
    "    MK test, that is, the MK test is a non-parametric (distribution-free) test.\n",
    "    Hirsch, Slack and Smith (1982, page 107) indicate that the MK test is best\n",
    "    viewed as an exploratory analysis and is most appropriately used to\n",
    "    identify stations where changes are significant or of large magnitude and\n",
    "    to quantify these findings.\n",
    "    Input:\n",
    "        x:   a vector of data\n",
    "        alpha: significance level (0.05 default)\n",
    "    Output:\n",
    "        trend: tells the trend (increasing, decreasing or no trend)\n",
    "        h: True (if trend is present) or False (if trend is absence)\n",
    "        p: p value of the significance test\n",
    "        z: normalized test statistics\n",
    "    Examples\n",
    "    --------\n",
    "      >>> x = np.random.rand(100)\n",
    "      >>> trend,h,p,z = mk_test(x,0.05)\n",
    "    \"\"\"\n",
    "    n = len(x)\n",
    "    # calculate S\n",
    "    s = 0\n",
    "    for k in range(n-1):\n",
    "        for j in range(k+1, n):\n",
    "            s += np.sign(x[j] - x[k])\n",
    "    # calculate the unique data\n",
    "    unique_x, tp = np.unique(x, return_counts=True)\n",
    "    g = len(unique_x)\n",
    "    # calculate the var(s)\n",
    "    if n == g:  # there is no tie\n",
    "        var_s = (n*(n-1)*(2*n+5))/18\n",
    "    else:  # there are some ties in data\n",
    "        var_s = (n*(n-1)*(2*n+5) - np.sum(tp*(tp-1)*(2*tp+5)))/18\n",
    "    if s > 0:\n",
    "        z = (s - 1)/np.sqrt(var_s)\n",
    "    elif s < 0:\n",
    "        z = (s + 1)/np.sqrt(var_s)\n",
    "    else: # s == 0:\n",
    "        z = 0\n",
    "    # calculate the p_value\n",
    "    p = 2*(1-norm.cdf(abs(z)))  # two tail test\n",
    "    h = abs(z) > norm.ppf(1-alpha/2)\n",
    "    if (z < 0) and h:\n",
    "        trend = 'decreasing'\n",
    "    elif (z > 0) and h:\n",
    "        trend = 'increasing'\n",
    "    else:\n",
    "        trend = 'no trend'\n",
    "    return trend, z"
   ]
  },
  {
   "cell_type": "code",
   "execution_count": 46,
   "id": "99d12d45",
   "metadata": {},
   "outputs": [
    {
     "name": "stdout",
     "output_type": "stream",
     "text": [
      "[0 1 2 3 4 5 6 7 8 9 0] [   2    3    5    9   17   33   65  129  257  513 1025]\n"
     ]
    },
    {
     "data": {
      "text/plain": [
       "(('increasing', 2.733040833050606), ('increasing', 4.203894298472224))"
      ]
     },
     "execution_count": 46,
     "metadata": {},
     "output_type": "execute_result"
    }
   ],
   "source": [
    "import numpy as np\n",
    "x = np.arange(11)\n",
    "y = np.array([2**i+1 for i in x])\n",
    "x[10] = 0\n",
    "print(x,y)\n",
    "mk_test(x),mk_test(y)"
   ]
  },
  {
   "cell_type": "code",
   "execution_count": null,
   "id": "6662eab0",
   "metadata": {},
   "outputs": [],
   "source": [
    "import sys\n",
    "L = [x for x in range(500)]\n",
    "\n",
    "print(sys.getsizeof(L)) // 824464"
   ]
  }
 ],
 "metadata": {
  "kernelspec": {
   "display_name": "Python 3 (ipykernel)",
   "language": "python",
   "name": "python3"
  },
  "language_info": {
   "codemirror_mode": {
    "name": "ipython",
    "version": 3
   },
   "file_extension": ".py",
   "mimetype": "text/x-python",
   "name": "python",
   "nbconvert_exporter": "python",
   "pygments_lexer": "ipython3",
   "version": "3.8.12"
  }
 },
 "nbformat": 4,
 "nbformat_minor": 5
}
