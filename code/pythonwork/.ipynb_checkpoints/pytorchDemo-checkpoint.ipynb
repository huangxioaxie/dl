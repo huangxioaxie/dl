{
 "cells": [
  {
   "cell_type": "markdown",
   "id": "31942d51",
   "metadata": {},
   "source": [
    "jupyter笔记"
   ]
  },
  {
   "cell_type": "code",
   "execution_count": 1,
   "id": "6bd2e720",
   "metadata": {},
   "outputs": [],
   "source": [
    "import torch"
   ]
  },
  {
   "cell_type": "code",
   "execution_count": 5,
   "id": "77382976",
   "metadata": {},
   "outputs": [
    {
     "name": "stdout",
     "output_type": "stream",
     "text": [
      "tensor([[9.2755e-39, 1.0561e-38, 9.5510e-39],\n",
      "        [1.0561e-38, 4.2246e-39, 1.0286e-38],\n",
      "        [1.0653e-38, 1.0194e-38, 8.4490e-39],\n",
      "        [1.0469e-38, 9.3674e-39, 9.9184e-39],\n",
      "        [8.7245e-39, 9.2755e-39, 8.9082e-39]])\n"
     ]
    }
   ],
   "source": [
    "x = torch.empty(5, 3)\n",
    "print(x)"
   ]
  },
  {
   "cell_type": "code",
   "execution_count": 6,
   "id": "328cb77b",
   "metadata": {},
   "outputs": [
    {
     "name": "stdout",
     "output_type": "stream",
     "text": [
      "tensor([[0.6544, 0.6843, 0.2129],\n",
      "        [0.8552, 0.1428, 0.5478],\n",
      "        [0.1186, 0.2113, 0.9189],\n",
      "        [0.2549, 0.9646, 0.1883],\n",
      "        [0.1778, 0.3651, 0.9270]])\n"
     ]
    }
   ],
   "source": [
    "x = torch.rand(5, 3)\n",
    "print(x)"
   ]
  },
  {
   "cell_type": "code",
   "execution_count": 7,
   "id": "439c9feb",
   "metadata": {},
   "outputs": [
    {
     "name": "stdout",
     "output_type": "stream",
     "text": [
      "tensor([[0, 0, 0],\n",
      "        [0, 0, 0],\n",
      "        [0, 0, 0],\n",
      "        [0, 0, 0],\n",
      "        [0, 0, 0]])\n"
     ]
    }
   ],
   "source": [
    "x = torch.zeros(5, 3, dtype=torch.long)\n",
    "print(x)"
   ]
  },
  {
   "cell_type": "code",
   "execution_count": 8,
   "id": "32cf81cc",
   "metadata": {},
   "outputs": [
    {
     "data": {
      "text/plain": [
       "tensor([5.5000, 3.0000])"
      ]
     },
     "execution_count": 8,
     "metadata": {},
     "output_type": "execute_result"
    }
   ],
   "source": [
    "x = torch.tensor([5.5, 3])\n",
    "x"
   ]
  },
  {
   "cell_type": "code",
   "execution_count": 9,
   "id": "9bad9b2d",
   "metadata": {},
   "outputs": [
    {
     "data": {
      "text/plain": [
       "tensor([[1., 1., 1.],\n",
       "        [1., 1., 1.],\n",
       "        [1., 1., 1.],\n",
       "        [1., 1., 1.],\n",
       "        [1., 1., 1.]], dtype=torch.float64)"
      ]
     },
     "execution_count": 9,
     "metadata": {},
     "output_type": "execute_result"
    }
   ],
   "source": [
    "x = torch.ones(5, 3, dtype= torch.double)\n",
    "x"
   ]
  },
  {
   "cell_type": "markdown",
   "id": "c04c2494",
   "metadata": {},
   "source": [
    "7. 从已有的张量创建相同维度的新张量，并且重新定义类型为float"
   ]
  },
  {
   "cell_type": "code",
   "execution_count": 14,
   "id": "409b2273",
   "metadata": {},
   "outputs": [
    {
     "name": "stdout",
     "output_type": "stream",
     "text": [
      "tensor([[-0.5181,  1.2922, -0.0195],\n",
      "        [-0.0924, -1.3450, -0.1408],\n",
      "        [ 1.4932,  0.2695,  0.2548],\n",
      "        [ 0.0611,  0.0362,  0.2906],\n",
      "        [ 1.1185,  0.1919, -0.0606]])\n"
     ]
    }
   ],
   "source": [
    "x = torch.randn_like(x, dtype=torch.float)\n",
    "print(x)"
   ]
  },
  {
   "cell_type": "code",
   "execution_count": 15,
   "id": "1f487960",
   "metadata": {},
   "outputs": [
    {
     "name": "stdout",
     "output_type": "stream",
     "text": [
      "torch.Size([5, 3])\n"
     ]
    }
   ],
   "source": [
    "print(x.size())"
   ]
  },
  {
   "cell_type": "code",
   "execution_count": 16,
   "id": "bb5b59e3",
   "metadata": {},
   "outputs": [
    {
     "name": "stdout",
     "output_type": "stream",
     "text": [
      "tensor([[-0.2221,  2.1032,  0.3924],\n",
      "        [ 0.7521, -0.6409,  0.5700],\n",
      "        [ 2.1550,  0.8199,  1.2192],\n",
      "        [ 0.7655,  0.9733,  0.9894],\n",
      "        [ 1.6775,  1.1368,  0.6351]])\n"
     ]
    }
   ],
   "source": [
    "y = torch.rand(5, 3)\n",
    "print(x + y)"
   ]
  },
  {
   "cell_type": "code",
   "execution_count": 17,
   "id": "468d43d3",
   "metadata": {},
   "outputs": [
    {
     "name": "stdout",
     "output_type": "stream",
     "text": [
      "tensor([[-0.2221,  2.1032,  0.3924],\n",
      "        [ 0.7521, -0.6409,  0.5700],\n",
      "        [ 2.1550,  0.8199,  1.2192],\n",
      "        [ 0.7655,  0.9733,  0.9894],\n",
      "        [ 1.6775,  1.1368,  0.6351]])\n"
     ]
    }
   ],
   "source": [
    "# 方法二\n",
    "print(torch.add(x, y))"
   ]
  },
  {
   "cell_type": "code",
   "execution_count": 18,
   "id": "d773d2ef",
   "metadata": {},
   "outputs": [
    {
     "name": "stdout",
     "output_type": "stream",
     "text": [
      "tensor([[-0.2221,  2.1032,  0.3924],\n",
      "        [ 0.7521, -0.6409,  0.5700],\n",
      "        [ 2.1550,  0.8199,  1.2192],\n",
      "        [ 0.7655,  0.9733,  0.9894],\n",
      "        [ 1.6775,  1.1368,  0.6351]])\n"
     ]
    }
   ],
   "source": [
    "# 方法三\n",
    "result = torch.empty(5, 3)\n",
    "torch.add(x, y, out=result)\n",
    "print(result)"
   ]
  },
  {
   "cell_type": "code",
   "execution_count": 19,
   "id": "f683efde",
   "metadata": {},
   "outputs": [
    {
     "name": "stdout",
     "output_type": "stream",
     "text": [
      "tensor([[-0.2221,  2.1032,  0.3924],\n",
      "        [ 0.7521, -0.6409,  0.5700],\n",
      "        [ 2.1550,  0.8199,  1.2192],\n",
      "        [ 0.7655,  0.9733,  0.9894],\n",
      "        [ 1.6775,  1.1368,  0.6351]])\n"
     ]
    }
   ],
   "source": [
    "# 方法四\n",
    "y.add_(x)\n",
    "print(y)"
   ]
  },
  {
   "cell_type": "code",
   "execution_count": 20,
   "id": "0af42525",
   "metadata": {},
   "outputs": [
    {
     "name": "stdout",
     "output_type": "stream",
     "text": [
      "tensor([ 1.2922, -1.3450,  0.2695,  0.0362,  0.1919])\n"
     ]
    }
   ],
   "source": [
    "print(x[:, 1])"
   ]
  },
  {
   "cell_type": "code",
   "execution_count": 23,
   "id": "d97707fe",
   "metadata": {},
   "outputs": [
    {
     "name": "stdout",
     "output_type": "stream",
     "text": [
      "tensor([[ 0.1045, -0.9391,  0.4311,  1.1792],\n",
      "        [-0.2309, -1.3718, -1.1838, -0.1116],\n",
      "        [ 1.3181, -1.3178,  1.5650, -0.0943],\n",
      "        [ 0.9662,  1.0902,  0.8612, -1.0976]])\n",
      "tensor([ 0.1045, -0.9391,  0.4311,  1.1792, -0.2309, -1.3718, -1.1838, -0.1116,\n",
      "         1.3181, -1.3178,  1.5650, -0.0943,  0.9662,  1.0902,  0.8612, -1.0976])\n",
      "torch.Size([4, 4]) torch.Size([16])\n"
     ]
    }
   ],
   "source": [
    "x = torch.randn(4, 4)\n",
    "y = x.view(16)\n",
    "print(x)\n",
    "print(y)\n",
    "print(x.size(),y.size())"
   ]
  },
  {
   "cell_type": "code",
   "execution_count": 27,
   "id": "eb2e790d",
   "metadata": {},
   "outputs": [
    {
     "name": "stdout",
     "output_type": "stream",
     "text": [
      "tensor([0.4400])\n",
      "0.4399701952934265\n",
      "\n",
      "tensor([1.8260, 1.7558])\n",
      "tensor(1.8260)\n",
      "1.8260414600372314\n"
     ]
    }
   ],
   "source": [
    "x = torch.randn(1)\n",
    "print(x)\n",
    "print(x.item())\n",
    "print()\n",
    "x = torch.randn(2)\n",
    "print(x)\n",
    "print(x[0])\n",
    "print(x[0].item())"
   ]
  },
  {
   "cell_type": "markdown",
   "id": "4c337c7c",
   "metadata": {},
   "source": [
    " # Numpy的操作"
   ]
  },
  {
   "cell_type": "code",
   "execution_count": null,
   "id": "f78b6ce6",
   "metadata": {},
   "outputs": [],
   "source": [
    "# 将张量装换成numpy数组\n",
    "\n",
    "a = torch.ones(5)\n",
    "print(a)\n",
    "\n",
    "b = a.numpy()\n",
    "print(b)"
   ]
  }
 ],
 "metadata": {
  "kernelspec": {
   "display_name": "Python [conda env:pytorch] *",
   "language": "python",
   "name": "conda-env-pytorch-py"
  },
  "language_info": {
   "codemirror_mode": {
    "name": "ipython",
    "version": 3
   },
   "file_extension": ".py",
   "mimetype": "text/x-python",
   "name": "python",
   "nbconvert_exporter": "python",
   "pygments_lexer": "ipython3",
   "version": "3.6.13"
  }
 },
 "nbformat": 4,
 "nbformat_minor": 5
}
