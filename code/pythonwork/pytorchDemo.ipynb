{
 "cells": [
  {
   "cell_type": "markdown",
   "id": "ef9f16bf",
   "metadata": {},
   "source": [
    "# pytorch笔记"
   ]
  },
  {
   "cell_type": "code",
   "execution_count": 1,
   "id": "d3ab3d82",
   "metadata": {},
   "outputs": [],
   "source": [
    "import torch"
   ]
  },
  {
   "cell_type": "code",
   "execution_count": 5,
   "id": "23dd665e",
   "metadata": {},
   "outputs": [
    {
     "name": "stdout",
     "output_type": "stream",
     "text": [
      "tensor([[9.2755e-39, 1.0561e-38, 9.5510e-39],\n",
      "        [1.0561e-38, 4.2246e-39, 1.0286e-38],\n",
      "        [1.0653e-38, 1.0194e-38, 8.4490e-39],\n",
      "        [1.0469e-38, 9.3674e-39, 9.9184e-39],\n",
      "        [8.7245e-39, 9.2755e-39, 8.9082e-39]])\n"
     ]
    }
   ],
   "source": [
    "x = torch.empty(5, 3)\n",
    "print(x)"
   ]
  },
  {
   "cell_type": "code",
   "execution_count": 6,
   "id": "e5b94fab",
   "metadata": {},
   "outputs": [
    {
     "name": "stdout",
     "output_type": "stream",
     "text": [
      "tensor([[0.6544, 0.6843, 0.2129],\n",
      "        [0.8552, 0.1428, 0.5478],\n",
      "        [0.1186, 0.2113, 0.9189],\n",
      "        [0.2549, 0.9646, 0.1883],\n",
      "        [0.1778, 0.3651, 0.9270]])\n"
     ]
    }
   ],
   "source": [
    "x = torch.rand(5, 3)\n",
    "print(x)"
   ]
  },
  {
   "cell_type": "code",
   "execution_count": 7,
   "id": "166f6588",
   "metadata": {},
   "outputs": [
    {
     "name": "stdout",
     "output_type": "stream",
     "text": [
      "tensor([[0, 0, 0],\n",
      "        [0, 0, 0],\n",
      "        [0, 0, 0],\n",
      "        [0, 0, 0],\n",
      "        [0, 0, 0]])\n"
     ]
    }
   ],
   "source": [
    "x = torch.zeros(5, 3, dtype=torch.long)\n",
    "print(x)"
   ]
  },
  {
   "cell_type": "code",
   "execution_count": 8,
   "id": "5c857eff",
   "metadata": {},
   "outputs": [
    {
     "data": {
      "text/plain": [
       "tensor([5.5000, 3.0000])"
      ]
     },
     "execution_count": 8,
     "metadata": {},
     "output_type": "execute_result"
    }
   ],
   "source": [
    "x = torch.tensor([5.5, 3])\n",
    "x"
   ]
  },
  {
   "cell_type": "code",
   "execution_count": 9,
   "id": "74c57f87",
   "metadata": {},
   "outputs": [
    {
     "data": {
      "text/plain": [
       "tensor([[1., 1., 1.],\n",
       "        [1., 1., 1.],\n",
       "        [1., 1., 1.],\n",
       "        [1., 1., 1.],\n",
       "        [1., 1., 1.]], dtype=torch.float64)"
      ]
     },
     "execution_count": 9,
     "metadata": {},
     "output_type": "execute_result"
    }
   ],
   "source": [
    "x = torch.ones(5, 3, dtype= torch.double)\n",
    "x"
   ]
  },
  {
   "cell_type": "markdown",
   "id": "b5e9c4fc",
   "metadata": {},
   "source": [
    "7. 从已有的张量创建相同维度的新张量，并且重新定义类型为float"
   ]
  },
  {
   "cell_type": "code",
   "execution_count": 14,
   "id": "3991b8ed",
   "metadata": {},
   "outputs": [
    {
     "name": "stdout",
     "output_type": "stream",
     "text": [
      "tensor([[-0.5181,  1.2922, -0.0195],\n",
      "        [-0.0924, -1.3450, -0.1408],\n",
      "        [ 1.4932,  0.2695,  0.2548],\n",
      "        [ 0.0611,  0.0362,  0.2906],\n",
      "        [ 1.1185,  0.1919, -0.0606]])\n"
     ]
    }
   ],
   "source": [
    "x = torch.randn_like(x, dtype=torch.float)\n",
    "print(x)"
   ]
  },
  {
   "cell_type": "code",
   "execution_count": 15,
   "id": "8975f836",
   "metadata": {},
   "outputs": [
    {
     "name": "stdout",
     "output_type": "stream",
     "text": [
      "torch.Size([5, 3])\n"
     ]
    }
   ],
   "source": [
    "print(x.size())"
   ]
  },
  {
   "cell_type": "code",
   "execution_count": 16,
   "id": "db900d67",
   "metadata": {},
   "outputs": [
    {
     "name": "stdout",
     "output_type": "stream",
     "text": [
      "tensor([[-0.2221,  2.1032,  0.3924],\n",
      "        [ 0.7521, -0.6409,  0.5700],\n",
      "        [ 2.1550,  0.8199,  1.2192],\n",
      "        [ 0.7655,  0.9733,  0.9894],\n",
      "        [ 1.6775,  1.1368,  0.6351]])\n"
     ]
    }
   ],
   "source": [
    "y = torch.rand(5, 3)\n",
    "print(x + y)"
   ]
  },
  {
   "cell_type": "code",
   "execution_count": 17,
   "id": "a55ef5af",
   "metadata": {},
   "outputs": [
    {
     "name": "stdout",
     "output_type": "stream",
     "text": [
      "tensor([[-0.2221,  2.1032,  0.3924],\n",
      "        [ 0.7521, -0.6409,  0.5700],\n",
      "        [ 2.1550,  0.8199,  1.2192],\n",
      "        [ 0.7655,  0.9733,  0.9894],\n",
      "        [ 1.6775,  1.1368,  0.6351]])\n"
     ]
    }
   ],
   "source": [
    "# 方法二\n",
    "print(torch.add(x, y))"
   ]
  },
  {
   "cell_type": "code",
   "execution_count": 18,
   "id": "397a94a7",
   "metadata": {},
   "outputs": [
    {
     "name": "stdout",
     "output_type": "stream",
     "text": [
      "tensor([[-0.2221,  2.1032,  0.3924],\n",
      "        [ 0.7521, -0.6409,  0.5700],\n",
      "        [ 2.1550,  0.8199,  1.2192],\n",
      "        [ 0.7655,  0.9733,  0.9894],\n",
      "        [ 1.6775,  1.1368,  0.6351]])\n"
     ]
    }
   ],
   "source": [
    "# 方法三\n",
    "result = torch.empty(5, 3)\n",
    "torch.add(x, y, out=result)\n",
    "print(result)"
   ]
  },
  {
   "cell_type": "code",
   "execution_count": 19,
   "id": "6348883b",
   "metadata": {},
   "outputs": [
    {
     "name": "stdout",
     "output_type": "stream",
     "text": [
      "tensor([[-0.2221,  2.1032,  0.3924],\n",
      "        [ 0.7521, -0.6409,  0.5700],\n",
      "        [ 2.1550,  0.8199,  1.2192],\n",
      "        [ 0.7655,  0.9733,  0.9894],\n",
      "        [ 1.6775,  1.1368,  0.6351]])\n"
     ]
    }
   ],
   "source": [
    "# 方法四\n",
    "y.add_(x)\n",
    "print(y)"
   ]
  },
  {
   "cell_type": "code",
   "execution_count": 20,
   "id": "44b29182",
   "metadata": {},
   "outputs": [
    {
     "name": "stdout",
     "output_type": "stream",
     "text": [
      "tensor([ 1.2922, -1.3450,  0.2695,  0.0362,  0.1919])\n"
     ]
    }
   ],
   "source": [
    "print(x[:, 1])"
   ]
  },
  {
   "cell_type": "code",
   "execution_count": 23,
   "id": "2885a19e",
   "metadata": {},
   "outputs": [
    {
     "name": "stdout",
     "output_type": "stream",
     "text": [
      "tensor([[ 0.1045, -0.9391,  0.4311,  1.1792],\n",
      "        [-0.2309, -1.3718, -1.1838, -0.1116],\n",
      "        [ 1.3181, -1.3178,  1.5650, -0.0943],\n",
      "        [ 0.9662,  1.0902,  0.8612, -1.0976]])\n",
      "tensor([ 0.1045, -0.9391,  0.4311,  1.1792, -0.2309, -1.3718, -1.1838, -0.1116,\n",
      "         1.3181, -1.3178,  1.5650, -0.0943,  0.9662,  1.0902,  0.8612, -1.0976])\n",
      "torch.Size([4, 4]) torch.Size([16])\n"
     ]
    }
   ],
   "source": [
    "x = torch.randn(4, 4)\n",
    "y = x.view(16)\n",
    "print(x)\n",
    "print(y)\n",
    "print(x.size(),y.size())"
   ]
  },
  {
   "cell_type": "code",
   "execution_count": 27,
   "id": "25098231",
   "metadata": {},
   "outputs": [
    {
     "name": "stdout",
     "output_type": "stream",
     "text": [
      "tensor([0.4400])\n",
      "0.4399701952934265\n",
      "\n",
      "tensor([1.8260, 1.7558])\n",
      "tensor(1.8260)\n",
      "1.8260414600372314\n"
     ]
    }
   ],
   "source": [
    "x = torch.randn(1)\n",
    "print(x)\n",
    "print(x.item())\n",
    "print()\n",
    "x = torch.randn(2)\n",
    "print(x)\n",
    "print(x[0])\n",
    "print(x[0].item())"
   ]
  },
  {
   "cell_type": "markdown",
   "id": "7320a61b",
   "metadata": {},
   "source": [
    " # Numpy的操作"
   ]
  },
  {
   "cell_type": "code",
   "execution_count": 31,
   "id": "30f786c3",
   "metadata": {},
   "outputs": [
    {
     "name": "stdout",
     "output_type": "stream",
     "text": [
      "tensor([1., 1., 1., 1., 1.])\n",
      "[1. 1. 1. 1. 1.]\n",
      "tensor([2., 2., 2., 2., 2.])\n",
      "[2. 2. 2. 2. 2.]\n"
     ]
    }
   ],
   "source": [
    "# 将张量装换成numpy数组\n",
    "\n",
    "a = torch.ones(5)\n",
    "print(a)\n",
    "\n",
    "b = a.numpy()\n",
    "print(b)\n",
    "\n",
    "a.add_(1)\n",
    "print(a)\n",
    "print(b)"
   ]
  },
  {
   "cell_type": "code",
   "execution_count": 36,
   "id": "a1bfb3ba",
   "metadata": {},
   "outputs": [
    {
     "name": "stdout",
     "output_type": "stream",
     "text": [
      "[1. 1. 1. 1. 1.]\n",
      "tensor([1., 1., 1., 1., 1.], dtype=torch.float64)\n",
      "[2. 2. 2. 2. 2.]\n",
      "tensor([2., 2., 2., 2., 2.], dtype=torch.float64)\n"
     ]
    }
   ],
   "source": [
    "import numpy as np\n",
    "a = np.ones(5)\n",
    "b = torch.from_numpy(a)\n",
    "print(a)\n",
    "print(b)\n",
    "\n",
    "np.add(a, 1, out=a)\n",
    "print(a)\n",
    "print(b)\n"
   ]
  },
  {
   "cell_type": "markdown",
   "id": "926d34a3",
   "metadata": {},
   "source": [
    "# 2 自动微分\n",
    "## 2.1 张量的自动微分\n",
    "### 18. 新建一个张量，并设置requires_grad=True"
   ]
  },
  {
   "cell_type": "code",
   "execution_count": 40,
   "id": "6ede4160",
   "metadata": {},
   "outputs": [
    {
     "name": "stdout",
     "output_type": "stream",
     "text": [
      "tensor([[1., 1.],\n",
      "        [1., 1.]], requires_grad=True)\n"
     ]
    }
   ],
   "source": [
    "x = torch.ones(2, 2, requires_grad=True)\n",
    "print(x)"
   ]
  },
  {
   "cell_type": "markdown",
   "id": "d2e7875f",
   "metadata": {},
   "source": [
    "### 19.对张量进行任意操作（y = x + 2）"
   ]
  },
  {
   "cell_type": "code",
   "execution_count": 41,
   "id": "f7124d23",
   "metadata": {},
   "outputs": [
    {
     "name": "stdout",
     "output_type": "stream",
     "text": [
      "tensor([[3., 3.],\n",
      "        [3., 3.]], grad_fn=<AddBackward0>)\n",
      "<AddBackward0 object at 0x000001ED0D7753C8>\n"
     ]
    }
   ],
   "source": [
    "y = x + 2\n",
    "print(y)\n",
    "print(y.grad_fn) # y就多了一个AddBackward"
   ]
  },
  {
   "cell_type": "markdown",
   "id": "fa3cb46a",
   "metadata": {},
   "source": [
    "### 20.再对y进行任意操作"
   ]
  },
  {
   "cell_type": "code",
   "execution_count": 42,
   "id": "b9b13bd2",
   "metadata": {},
   "outputs": [
    {
     "name": "stdout",
     "output_type": "stream",
     "text": [
      "tensor([[27., 27.],\n",
      "        [27., 27.]], grad_fn=<MulBackward0>)\n",
      "tensor(27., grad_fn=<MeanBackward0>)\n"
     ]
    }
   ],
   "source": [
    "z = y * y * 3\n",
    "out = z.mean()\n",
    "\n",
    "print(z) # z多了MulBackward\n",
    "print(out) # out多了MeanBackward"
   ]
  },
  {
   "cell_type": "markdown",
   "id": "9f15bba0",
   "metadata": {},
   "source": [
    "## 2.2 梯度\n",
    "### 21.对out进行反向传播"
   ]
  },
  {
   "cell_type": "code",
   "execution_count": 43,
   "id": "c0d347b2",
   "metadata": {},
   "outputs": [],
   "source": [
    "out.backward()"
   ]
  },
  {
   "cell_type": "markdown",
   "id": "e10357f8",
   "metadata": {},
   "source": [
    "### 22.打印梯度d(out)/dx"
   ]
  },
  {
   "cell_type": "code",
   "execution_count": 44,
   "id": "6f04ab6b",
   "metadata": {},
   "outputs": [
    {
     "name": "stdout",
     "output_type": "stream",
     "text": [
      "tensor([[4.5000, 4.5000],\n",
      "        [4.5000, 4.5000]])\n"
     ]
    }
   ],
   "source": [
    "print(x.grad) #out=0.25*Σ3(x+2)^2"
   ]
  },
  {
   "cell_type": "markdown",
   "id": "985c50e9",
   "metadata": {},
   "source": [
    "### 23.创建一个结果为矢量的计算过程（y=x*2^n）"
   ]
  },
  {
   "cell_type": "code",
   "execution_count": 45,
   "id": "296f3c6d",
   "metadata": {},
   "outputs": [
    {
     "name": "stdout",
     "output_type": "stream",
     "text": [
      "tensor([-330.5654, 1177.2318,  968.1824], grad_fn=<MulBackward0>)\n"
     ]
    }
   ],
   "source": [
    "x = torch.randn(3, requires_grad=True)\n",
    "\n",
    "y = x * 2\n",
    "while y.data.norm() < 1000:\n",
    "    y = y * 2\n",
    "\n",
    "print(y)"
   ]
  },
  {
   "cell_type": "markdown",
   "id": "c1d7b83a",
   "metadata": {},
   "source": [
    "广播机制\n"
   ]
  },
  {
   "cell_type": "code",
   "execution_count": 46,
   "id": "b6a39835",
   "metadata": {},
   "outputs": [
    {
     "data": {
      "text/plain": [
       "tensor([[[ 2.5348e-38,  1.1314e-37,         nan],\n",
       "         [        nan,  2.1466e+29,  6.7111e+22],\n",
       "         [-1.7672e+30,  2.6817e-38,  2.5715e-38],\n",
       "         [ 1.4277e+04,  2.7376e+20,  4.5448e+30],\n",
       "         [ 1.6877e+25,  1.7612e+19,  3.2501e-39],\n",
       "         [ 1.0194e-38,  9.3674e-39,  5.4183e-39],\n",
       "         [ 9.2754e-39,  4.5706e-35,  2.6585e+36]],\n",
       "\n",
       "        [[-2.0470e+38,  2.4137e+12,  7.2245e+30],\n",
       "         [ 1.1563e+19,  5.4063e+19,  2.0564e+12],\n",
       "         [ 2.5353e+30, -1.8671e+38,  7.8156e+08],\n",
       "         [ 2.7148e+33,  4.6164e+24,  5.8011e+08],\n",
       "         [ 1.6486e+11,  1.6745e+35,  6.1393e+28],\n",
       "         [ 7.1441e+31,  5.5115e-11,  7.2387e+31],\n",
       "         [ 9.7704e-39,  9.2754e-39,  1.0561e-38]],\n",
       "\n",
       "        [[ 1.1388e-38,  1.1020e-38, -4.5700e-35],\n",
       "         [ 2.6585e+36,  2.5435e+30,  3.8832e+25],\n",
       "         [ 1.2134e+22,  2.7086e+36,  4.1647e+31],\n",
       "         [-3.8160e-37,  2.7086e+36,  1.0759e+37],\n",
       "         [ 4.9938e+36,  2.6623e+30,  3.9409e+25],\n",
       "         [-3.7758e-37,  4.1353e+31,  2.8332e+36],\n",
       "         [ 1.6033e+29,  4.0939e+25, -3.6941e-37]],\n",
       "\n",
       "        [[ 4.7447e+36,  7.8315e-06,  6.4615e+29],\n",
       "         [ 4.0013e+25,  4.0032e+25,  3.9143e+25],\n",
       "         [-3.7115e-37,  1.0096e+28,  4.0315e+25],\n",
       "         [-3.7758e-37,  2.7101e+36,  4.1647e+31],\n",
       "         [-3.7418e-37,  9.4517e+21,  2.6601e+36],\n",
       "         [ 5.5014e+11,  5.6690e+08,  1.3035e+36],\n",
       "         [ 5.7635e-11,  1.9065e+37,  6.9825e+35]],\n",
       "\n",
       "        [[ 2.0800e+23,  2.9525e-11,  1.3035e+36],\n",
       "         [ 2.0867e+37,  3.2905e+35, -3.2904e+35],\n",
       "         [ 3.2572e-32,  1.0205e-38,  1.2163e-38],\n",
       "         [ 5.2475e-17,  2.5353e+30,  4.0410e-39],\n",
       "         [ 3.1316e-39,  1.0969e-38,  2.0498e-19],\n",
       "         [-9.0072e+15,  7.1440e+31,  1.0114e+25],\n",
       "         [ 2.8147e+23,  1.8462e+31,  4.7216e+30]]])"
      ]
     },
     "execution_count": 46,
     "metadata": {},
     "output_type": "execute_result"
    }
   ],
   "source": [
    "# 示例1：相同形状的张量总是可广播的，因为总能满足以上规则。\n",
    "x = torch.empty(5, 7, 3)\n",
    "y = torch.empty(5, 7, 3)\n",
    "x + y"
   ]
  },
  {
   "cell_type": "code",
   "execution_count": 51,
   "id": "ee5d5016",
   "metadata": {},
   "outputs": [
    {
     "ename": "RuntimeError",
     "evalue": "The size of tensor a (0) must match the size of tensor b (2) at non-singleton dimension 0",
     "output_type": "error",
     "traceback": [
      "\u001b[1;31m---------------------------------------------------------------------------\u001b[0m",
      "\u001b[1;31mRuntimeError\u001b[0m                              Traceback (most recent call last)",
      "\u001b[1;32m<ipython-input-51-e042ca0f5108>\u001b[0m in \u001b[0;36m<module>\u001b[1;34m\u001b[0m\n\u001b[0;32m      2\u001b[0m \u001b[0ma\u001b[0m \u001b[1;33m=\u001b[0m \u001b[0mtorch\u001b[0m\u001b[1;33m.\u001b[0m\u001b[0mempty\u001b[0m\u001b[1;33m(\u001b[0m\u001b[1;33m(\u001b[0m\u001b[1;36m0\u001b[0m\u001b[1;33m,\u001b[0m\u001b[1;36m1\u001b[0m\u001b[1;33m)\u001b[0m\u001b[1;33m)\u001b[0m\u001b[1;33m\u001b[0m\u001b[1;33m\u001b[0m\u001b[0m\n\u001b[0;32m      3\u001b[0m \u001b[0mb\u001b[0m \u001b[1;33m=\u001b[0m \u001b[0mtorch\u001b[0m\u001b[1;33m.\u001b[0m\u001b[0mempty\u001b[0m\u001b[1;33m(\u001b[0m\u001b[1;36m2\u001b[0m\u001b[1;33m,\u001b[0m \u001b[1;36m2\u001b[0m\u001b[1;33m)\u001b[0m\u001b[1;33m\u001b[0m\u001b[1;33m\u001b[0m\u001b[0m\n\u001b[1;32m----> 4\u001b[1;33m \u001b[1;33m(\u001b[0m\u001b[0ma\u001b[0m\u001b[1;33m+\u001b[0m\u001b[0mb\u001b[0m\u001b[1;33m)\u001b[0m\u001b[1;33m.\u001b[0m\u001b[0msize\u001b[0m\u001b[1;33m(\u001b[0m\u001b[1;33m)\u001b[0m\u001b[1;33m\u001b[0m\u001b[1;33m\u001b[0m\u001b[0m\n\u001b[0m",
      "\u001b[1;31mRuntimeError\u001b[0m: The size of tensor a (0) must match the size of tensor b (2) at non-singleton dimension 0"
     ]
    }
   ],
   "source": [
    "# 示例2：不可广播（ a 不满足第一条规则）。\n",
    "a = torch.empty((0,1))\n",
    "b = torch.empty(2, 2)\n",
    "(a+b).size()"
   ]
  },
  {
   "cell_type": "code",
   "execution_count": 50,
   "id": "431b4380",
   "metadata": {},
   "outputs": [
    {
     "data": {
      "text/plain": [
       "torch.Size([5, 3, 4, 1])"
      ]
     },
     "execution_count": 50,
     "metadata": {},
     "output_type": "execute_result"
    }
   ],
   "source": [
    "# 示例3：m 和 n 可广播：\n",
    "m = torch.empty(5, 3, 4, 1)\n",
    "n = torch.empty(   3, 1, 1)\n",
    "# 倒数第一个维度：两者的尺寸均为1\n",
    "# 倒数第二个维度：n尺寸为1\n",
    "# 倒数第三个维度：两者尺寸相同\n",
    "# 倒数第四个维度：n该维度不存在\n",
    "(m+n).size()"
   ]
  },
  {
   "cell_type": "code",
   "execution_count": 52,
   "id": "8c1a6e88",
   "metadata": {},
   "outputs": [
    {
     "ename": "RuntimeError",
     "evalue": "The size of tensor a (2) must match the size of tensor b (3) at non-singleton dimension 1",
     "output_type": "error",
     "traceback": [
      "\u001b[1;31m---------------------------------------------------------------------------\u001b[0m",
      "\u001b[1;31mRuntimeError\u001b[0m                              Traceback (most recent call last)",
      "\u001b[1;32m<ipython-input-52-db0e889ce6a6>\u001b[0m in \u001b[0;36m<module>\u001b[1;34m\u001b[0m\n\u001b[0;32m      2\u001b[0m \u001b[0mp\u001b[0m \u001b[1;33m=\u001b[0m \u001b[0mtorch\u001b[0m\u001b[1;33m.\u001b[0m\u001b[0mempty\u001b[0m\u001b[1;33m(\u001b[0m\u001b[1;36m5\u001b[0m\u001b[1;33m,\u001b[0m \u001b[1;36m2\u001b[0m\u001b[1;33m,\u001b[0m \u001b[1;36m4\u001b[0m\u001b[1;33m,\u001b[0m \u001b[1;36m1\u001b[0m\u001b[1;33m)\u001b[0m\u001b[1;33m\u001b[0m\u001b[1;33m\u001b[0m\u001b[0m\n\u001b[0;32m      3\u001b[0m \u001b[0mq\u001b[0m \u001b[1;33m=\u001b[0m \u001b[0mtorch\u001b[0m\u001b[1;33m.\u001b[0m\u001b[0mempty\u001b[0m\u001b[1;33m(\u001b[0m   \u001b[1;36m3\u001b[0m\u001b[1;33m,\u001b[0m \u001b[1;36m1\u001b[0m\u001b[1;33m,\u001b[0m \u001b[1;36m1\u001b[0m\u001b[1;33m)\u001b[0m\u001b[1;33m\u001b[0m\u001b[1;33m\u001b[0m\u001b[0m\n\u001b[1;32m----> 4\u001b[1;33m \u001b[0mp\u001b[0m\u001b[1;33m+\u001b[0m\u001b[0mq\u001b[0m\u001b[1;33m\u001b[0m\u001b[1;33m\u001b[0m\u001b[0m\n\u001b[0m",
      "\u001b[1;31mRuntimeError\u001b[0m: The size of tensor a (2) must match the size of tensor b (3) at non-singleton dimension 1"
     ]
    }
   ],
   "source": [
    "# 示例4：不可广播，因为倒数第三个维度：2 != 3\n",
    "p = torch.empty(5, 2, 4, 1)\n",
    "q = torch.empty(   3, 1, 1)\n",
    "p+q"
   ]
  },
  {
   "cell_type": "code",
   "execution_count": 54,
   "id": "5dcb5085",
   "metadata": {},
   "outputs": [
    {
     "name": "stdout",
     "output_type": "stream",
     "text": [
      "torch.Size([5, 3, 4, 1])\n",
      "torch.Size([3, 1, 7])\n"
     ]
    },
    {
     "ename": "RuntimeError",
     "evalue": "The size of tensor a (2) must match the size of tensor b (3) at non-singleton dimension 1",
     "output_type": "error",
     "traceback": [
      "\u001b[1;31m---------------------------------------------------------------------------\u001b[0m",
      "\u001b[1;31mRuntimeError\u001b[0m                              Traceback (most recent call last)",
      "\u001b[1;32m<ipython-input-54-e3402bcc0ff6>\u001b[0m in \u001b[0;36m<module>\u001b[1;34m\u001b[0m\n\u001b[0;32m     13\u001b[0m \u001b[0mo\u001b[0m \u001b[1;33m=\u001b[0m \u001b[0mtorch\u001b[0m\u001b[1;33m.\u001b[0m\u001b[0mempty\u001b[0m\u001b[1;33m(\u001b[0m\u001b[1;36m5\u001b[0m\u001b[1;33m,\u001b[0m \u001b[1;36m2\u001b[0m\u001b[1;33m,\u001b[0m \u001b[1;36m4\u001b[0m\u001b[1;33m,\u001b[0m \u001b[1;36m1\u001b[0m\u001b[1;33m)\u001b[0m\u001b[1;33m\u001b[0m\u001b[1;33m\u001b[0m\u001b[0m\n\u001b[0;32m     14\u001b[0m \u001b[0mu\u001b[0m \u001b[1;33m=\u001b[0m \u001b[0mtorch\u001b[0m\u001b[1;33m.\u001b[0m\u001b[0mempty\u001b[0m\u001b[1;33m(\u001b[0m   \u001b[1;36m3\u001b[0m\u001b[1;33m,\u001b[0m \u001b[1;36m1\u001b[0m\u001b[1;33m,\u001b[0m \u001b[1;36m1\u001b[0m\u001b[1;33m)\u001b[0m\u001b[1;33m\u001b[0m\u001b[1;33m\u001b[0m\u001b[0m\n\u001b[1;32m---> 15\u001b[1;33m \u001b[1;33m(\u001b[0m\u001b[0mo\u001b[0m \u001b[1;33m+\u001b[0m \u001b[0mu\u001b[0m\u001b[1;33m)\u001b[0m\u001b[1;33m.\u001b[0m\u001b[0msize\u001b[0m\u001b[1;33m(\u001b[0m\u001b[1;33m)\u001b[0m\u001b[1;33m\u001b[0m\u001b[1;33m\u001b[0m\u001b[0m\n\u001b[0m",
      "\u001b[1;31mRuntimeError\u001b[0m: The size of tensor a (2) must match the size of tensor b (3) at non-singleton dimension 1"
     ]
    }
   ],
   "source": [
    "# 示例5：可广播\n",
    "c = torch.empty(5, 1, 4, 1)\n",
    "d = torch.empty(   3, 1, 1)\n",
    "print((c + d).size())  # torch.Size([5, 3, 4, 1])\n",
    "\n",
    "\n",
    "# 示例6：可广播\n",
    "f = torch.empty(      1)\n",
    "g = torch.empty(3, 1, 7)\n",
    "print((f + g).size())  # torch.Size([3, 1, 7])\n",
    "\n",
    "# 示例7：不可广播\n",
    "o = torch.empty(5, 2, 4, 1)\n",
    "u = torch.empty(   3, 1, 1)\n",
    "(o + u).size()"
   ]
  },
  {
   "cell_type": "code",
   "execution_count": 62,
   "id": "5073dffb",
   "metadata": {},
   "outputs": [
    {
     "name": "stdout",
     "output_type": "stream",
     "text": [
      "tensor([[True]])\n"
     ]
    }
   ],
   "source": [
    "x = torch.zeros(1,1)\n",
    "y = torch.ones(1,1)\n",
    "before = x\n",
    "x +=y\n",
    "print(before==x)"
   ]
  },
  {
   "cell_type": "code",
   "execution_count": 64,
   "id": "9dc3509f",
   "metadata": {},
   "outputs": [
    {
     "name": "stdout",
     "output_type": "stream",
     "text": [
      "tensor([[False]])\n"
     ]
    }
   ],
   "source": [
    "x = torch.zeros(1,1)\n",
    "y = torch.ones(1,1)\n",
    "before = x\n",
    "x = x + y\n",
    "print(before==x)"
   ]
  },
  {
   "cell_type": "code",
   "execution_count": 78,
   "id": "e91cecc0",
   "metadata": {},
   "outputs": [
    {
     "data": {
      "text/plain": [
       "(tensor([[0.],\n",
       "         [1.],\n",
       "         [2.],\n",
       "         [3.]]),\n",
       " tensor([[0., 1., 2., 3.]]),\n",
       " tensor([[6.]]))"
      ]
     },
     "execution_count": 78,
     "metadata": {},
     "output_type": "execute_result"
    }
   ],
   "source": [
    "x = torch.arange(4, dtype=torch.float32).reshape(4,1)\n",
    "y = torch.ones(4, dtype = torch.float32).reshape(4,1)\n",
    "x,x.T,torch.mm(x.T,y)"
   ]
  },
  {
   "cell_type": "code",
   "execution_count": 84,
   "id": "8078dc55",
   "metadata": {},
   "outputs": [
    {
     "data": {
      "text/plain": [
       "(tensor([[ 0.,  1.,  2.,  3.,  4.],\n",
       "         [ 5.,  6.,  7.,  8.,  9.],\n",
       "         [10., 11., 12., 13., 14.],\n",
       "         [15., 16., 17., 18., 19.]]),\n",
       " tensor([10., 35., 60., 85.]))"
      ]
     },
     "execution_count": 84,
     "metadata": {},
     "output_type": "execute_result"
    }
   ],
   "source": [
    "A = torch.arange(20, dtype= torch.float32).reshape(4,5)\n",
    "A,A.sum(axis=1)\n"
   ]
  },
  {
   "cell_type": "code",
   "execution_count": null,
   "id": "91cd97e3",
   "metadata": {},
   "outputs": [],
   "source": []
  }
 ],
 "metadata": {
  "kernelspec": {
   "display_name": "Python [conda env:pytorch] *",
   "language": "python",
   "name": "conda-env-pytorch-py"
  },
  "language_info": {
   "codemirror_mode": {
    "name": "ipython",
    "version": 3
   },
   "file_extension": ".py",
   "mimetype": "text/x-python",
   "name": "python",
   "nbconvert_exporter": "python",
   "pygments_lexer": "ipython3",
   "version": "3.6.13"
  }
 },
 "nbformat": 4,
 "nbformat_minor": 5
}
